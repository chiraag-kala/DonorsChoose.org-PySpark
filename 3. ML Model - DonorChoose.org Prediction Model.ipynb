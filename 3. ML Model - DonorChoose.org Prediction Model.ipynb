{
 "cells": [
  {
   "cell_type": "markdown",
   "metadata": {},
   "source": [
    "## Supervised Machine Learning on DonorChoose.org Data"
   ]
  },
  {
   "cell_type": "code",
   "execution_count": 2,
   "metadata": {},
   "outputs": [],
   "source": [
    "from pyspark.sql import SparkSession\n",
    "from pyspark.sql.functions import *\n",
    "import pandas as pd\n",
    "\n",
    "spark = SparkSession.builder.appName('ReadData').getOrCreate()\n",
    "sc = spark.sparkContext\n",
    "from pyspark.sql import HiveContext\n",
    "hive_context = HiveContext(sc)"
   ]
  },
  {
   "cell_type": "code",
   "execution_count": 3,
   "metadata": {},
   "outputs": [],
   "source": [
    "df = hive_context.table(\"donor.final_projects_joined\")"
   ]
  },
  {
   "cell_type": "code",
   "execution_count": 4,
   "metadata": {},
   "outputs": [
    {
     "name": "stdout",
     "output_type": "stream",
     "text": [
      "+--------------------+--------------------+--------------------+-----------+------------+------------------+----------------+------------+-----------------+----------------+--------------+----------------------+-------------------+-------------------+--------------------+--------------------+-----------------+-----------------+----------------------------+------------+----------+-----------+-------------+--------------------+-------------------+-------------------+--------------------------+--------------------+------------------------+--------------+---------------------------------+-------------+------------------+-----------------+---------------------+\n",
      "|          project_id|           school_id|          teacher_id|project_seq|project_type|project_grad_level|project_resource|project_cost|project_post_date|project_exp_date|project_status|project_full_fund_date|       project_cat1|       project_cat2|     project_subcat1|     project_subcat2|      school_name|school_metro_type|school_percentage_free_lunch|school_state|school_zip|school_city|school_county|     school_district|donation_amount_sum|number_of_donations|number_of_resources_needed|resources_amount_sum|resources_total_quantity|teacher_prefix|teacher_first_project_posted_date|days_diff_exp|month_of_post_date|year_of_post_date|teacher_date_diff_exp|\n",
      "+--------------------+--------------------+--------------------+-----------+------------+------------------+----------------+------------+-----------------+----------------+--------------+----------------------+-------------------+-------------------+--------------------+--------------------+-----------------+-----------------+----------------------------+------------+----------+-----------+-------------+--------------------+-------------------+-------------------+--------------------------+--------------------+------------------------+--------------+---------------------------------+-------------+------------------+-----------------+---------------------+\n",
      "|c48e459e1e5ae4cf1...|68dc165a97358a9cc...|002e3eeabdd2cbcc7...|          6| Teacher-Led|       Grades 9-12|           Books|      698.15|       2017-11-28|      2018-03-28|  Fully Funded|            2018-03-27|Literacy & Language|Literacy & Language|Literature & Writing|Literature & Writing|Olton High School|            rural|                        80.0|       Texas|     79064|      Olton|         Lamb|Olton Ind School ...|               99.0|                  1|                        25|   202.4700002670288|                    72.0|          Mrs.|                       2017-01-16|          120|                11|             2017|                  436|\n",
      "|471447eb84d22f7f5...|68dc165a97358a9cc...|002e3eeabdd2cbcc7...|          1| Teacher-Led|       Grades 9-12|           Books|      294.95|       2017-01-16|      2017-05-25|  Fully Funded|            2017-02-05|Literacy & Language|Literacy & Language|Literature & Writing|Literature & Writing|Olton High School|            rural|                        80.0|       Texas|     79064|      Olton|         Lamb|Olton Ind School ...| 125.36000061035156|                  1|                         6|  43.489999771118164|                    30.0|          Mrs.|                       2017-01-16|          129|                 1|             2017|                  129|\n",
      "+--------------------+--------------------+--------------------+-----------+------------+------------------+----------------+------------+-----------------+----------------+--------------+----------------------+-------------------+-------------------+--------------------+--------------------+-----------------+-----------------+----------------------------+------------+----------+-----------+-------------+--------------------+-------------------+-------------------+--------------------------+--------------------+------------------------+--------------+---------------------------------+-------------+------------------+-----------------+---------------------+\n",
      "only showing top 2 rows\n",
      "\n"
     ]
    }
   ],
   "source": [
    "df.show(2)"
   ]
  },
  {
   "cell_type": "code",
   "execution_count": 4,
   "metadata": {},
   "outputs": [],
   "source": [
    "df = df.drop('project_seq','project_id','school_id','teacher_id','project_post_date','project_exp_date',\n",
    "                                       'project_full_fund_date','school_name','school_city','school_district',\n",
    "                                       'school_county','school_zip','donation_amount_sum','number_of_donations',\n",
    "                                       'teacher_first_project_posted_date','project_cat2','project_subcat2')"
   ]
  },
  {
   "cell_type": "code",
   "execution_count": 5,
   "metadata": {},
   "outputs": [],
   "source": [
    "df = df.withColumn('month_of_post_date',df.month_of_post_date.cast('string'))\n",
    "df = df.withColumn('year_of_post_date',df.year_of_post_date.cast('string'))"
   ]
  },
  {
   "cell_type": "code",
   "execution_count": 6,
   "metadata": {},
   "outputs": [
    {
     "data": {
      "text/plain": [
       "[('project_type', 'string'),\n",
       " ('project_grad_level', 'string'),\n",
       " ('project_resource', 'string'),\n",
       " ('project_cost', 'float'),\n",
       " ('project_status', 'string'),\n",
       " ('project_cat1', 'string'),\n",
       " ('project_subcat1', 'string'),\n",
       " ('school_metro_type', 'string'),\n",
       " ('school_percentage_free_lunch', 'float'),\n",
       " ('school_state', 'string'),\n",
       " ('number_of_resources_needed', 'bigint'),\n",
       " ('resources_amount_sum', 'double'),\n",
       " ('resources_total_quantity', 'double'),\n",
       " ('teacher_prefix', 'string'),\n",
       " ('days_diff_exp', 'int'),\n",
       " ('month_of_post_date', 'string'),\n",
       " ('year_of_post_date', 'string'),\n",
       " ('teacher_date_diff_exp', 'int')]"
      ]
     },
     "execution_count": 6,
     "metadata": {},
     "output_type": "execute_result"
    }
   ],
   "source": [
    "df.dtypes"
   ]
  },
  {
   "cell_type": "code",
   "execution_count": 7,
   "metadata": {},
   "outputs": [
    {
     "data": {
      "text/html": [
       "<div>\n",
       "<style scoped>\n",
       "    .dataframe tbody tr th:only-of-type {\n",
       "        vertical-align: middle;\n",
       "    }\n",
       "\n",
       "    .dataframe tbody tr th {\n",
       "        vertical-align: top;\n",
       "    }\n",
       "\n",
       "    .dataframe thead th {\n",
       "        text-align: right;\n",
       "    }\n",
       "</style>\n",
       "<table border=\"1\" class=\"dataframe\">\n",
       "  <thead>\n",
       "    <tr style=\"text-align: right;\">\n",
       "      <th></th>\n",
       "      <th>0</th>\n",
       "    </tr>\n",
       "  </thead>\n",
       "  <tbody>\n",
       "    <tr>\n",
       "      <th>project_type</th>\n",
       "      <td>0</td>\n",
       "    </tr>\n",
       "    <tr>\n",
       "      <th>project_grad_level</th>\n",
       "      <td>0</td>\n",
       "    </tr>\n",
       "    <tr>\n",
       "      <th>project_resource</th>\n",
       "      <td>0</td>\n",
       "    </tr>\n",
       "    <tr>\n",
       "      <th>project_cost</th>\n",
       "      <td>0</td>\n",
       "    </tr>\n",
       "    <tr>\n",
       "      <th>project_status</th>\n",
       "      <td>0</td>\n",
       "    </tr>\n",
       "    <tr>\n",
       "      <th>project_cat1</th>\n",
       "      <td>0</td>\n",
       "    </tr>\n",
       "    <tr>\n",
       "      <th>project_subcat1</th>\n",
       "      <td>0</td>\n",
       "    </tr>\n",
       "    <tr>\n",
       "      <th>school_metro_type</th>\n",
       "      <td>0</td>\n",
       "    </tr>\n",
       "    <tr>\n",
       "      <th>school_percentage_free_lunch</th>\n",
       "      <td>0</td>\n",
       "    </tr>\n",
       "    <tr>\n",
       "      <th>school_state</th>\n",
       "      <td>0</td>\n",
       "    </tr>\n",
       "    <tr>\n",
       "      <th>number_of_resources_needed</th>\n",
       "      <td>0</td>\n",
       "    </tr>\n",
       "    <tr>\n",
       "      <th>resources_amount_sum</th>\n",
       "      <td>0</td>\n",
       "    </tr>\n",
       "    <tr>\n",
       "      <th>resources_total_quantity</th>\n",
       "      <td>0</td>\n",
       "    </tr>\n",
       "    <tr>\n",
       "      <th>teacher_prefix</th>\n",
       "      <td>0</td>\n",
       "    </tr>\n",
       "    <tr>\n",
       "      <th>days_diff_exp</th>\n",
       "      <td>0</td>\n",
       "    </tr>\n",
       "    <tr>\n",
       "      <th>month_of_post_date</th>\n",
       "      <td>0</td>\n",
       "    </tr>\n",
       "    <tr>\n",
       "      <th>year_of_post_date</th>\n",
       "      <td>0</td>\n",
       "    </tr>\n",
       "    <tr>\n",
       "      <th>teacher_date_diff_exp</th>\n",
       "      <td>0</td>\n",
       "    </tr>\n",
       "  </tbody>\n",
       "</table>\n",
       "</div>"
      ],
      "text/plain": [
       "                              0\n",
       "project_type                  0\n",
       "project_grad_level            0\n",
       "project_resource              0\n",
       "project_cost                  0\n",
       "project_status                0\n",
       "project_cat1                  0\n",
       "project_subcat1               0\n",
       "school_metro_type             0\n",
       "school_percentage_free_lunch  0\n",
       "school_state                  0\n",
       "number_of_resources_needed    0\n",
       "resources_amount_sum          0\n",
       "resources_total_quantity      0\n",
       "teacher_prefix                0\n",
       "days_diff_exp                 0\n",
       "month_of_post_date            0\n",
       "year_of_post_date             0\n",
       "teacher_date_diff_exp         0"
      ]
     },
     "execution_count": 7,
     "metadata": {},
     "output_type": "execute_result"
    }
   ],
   "source": [
    "null_count = df.select(*(sum(col(c).isNull().cast(\"int\")).alias(c) for c in df.columns)).toPandas()\n",
    "null_count.T"
   ]
  },
  {
   "cell_type": "markdown",
   "metadata": {},
   "source": [
    "#### Categorical Features"
   ]
  },
  {
   "cell_type": "code",
   "execution_count": 8,
   "metadata": {},
   "outputs": [],
   "source": [
    "cat_features = [t[0] for t in df.dtypes if t[1] == 'string']"
   ]
  },
  {
   "cell_type": "code",
   "execution_count": 9,
   "metadata": {},
   "outputs": [],
   "source": [
    "cat_features = set(cat_features) - set(['project_status'])\n",
    "cat_features = list(cat_features)"
   ]
  },
  {
   "cell_type": "code",
   "execution_count": 10,
   "metadata": {},
   "outputs": [
    {
     "data": {
      "text/plain": [
       "['teacher_prefix',\n",
       " 'project_resource',\n",
       " 'project_cat1',\n",
       " 'school_state',\n",
       " 'project_grad_level',\n",
       " 'year_of_post_date',\n",
       " 'project_type',\n",
       " 'school_metro_type',\n",
       " 'project_subcat1',\n",
       " 'month_of_post_date']"
      ]
     },
     "execution_count": 10,
     "metadata": {},
     "output_type": "execute_result"
    }
   ],
   "source": [
    "cat_features"
   ]
  },
  {
   "cell_type": "code",
   "execution_count": 11,
   "metadata": {},
   "outputs": [
    {
     "name": "stdout",
     "output_type": "stream",
     "text": [
      "+--------------+------+\n",
      "|teacher_prefix| count|\n",
      "+--------------+------+\n",
      "|           Ms.|383778|\n",
      "|       Teacher| 14160|\n",
      "|           Mr.|115610|\n",
      "|          Mrs.|544075|\n",
      "|           Dr.|   270|\n",
      "|           Mx.|    59|\n",
      "+--------------+------+\n",
      "\n",
      "None\n",
      "+--------------------+------+\n",
      "|    project_resource| count|\n",
      "+--------------------+------+\n",
      "|Reading Nooks Des...| 10448|\n",
      "|Sports & Exercise...|  5558|\n",
      "| Computers & Tablets| 22892|\n",
      "|Food Clothing & H...|  4817|\n",
      "|            Supplies|382818|\n",
      "|    Classroom Basics|  9386|\n",
      "|               Other| 66515|\n",
      "|        Art Supplies|  7013|\n",
      "|               Books|177502|\n",
      "|Educational Kits ...| 17431|\n",
      "|Instructional Tec...| 14936|\n",
      "|       Lab Equipment|  5833|\n",
      "|               Trips| 19136|\n",
      "|            Visitors|  2756|\n",
      "|          Technology|296747|\n",
      "|    Flexible Seating| 10839|\n",
      "| Musical Instruments|  3325|\n",
      "+--------------------+------+\n",
      "\n",
      "None\n",
      "+-------------------+------+\n",
      "|       project_cat1| count|\n",
      "+-------------------+------+\n",
      "|   History & Civics| 49846|\n",
      "|   Applied Learning|122314|\n",
      "|     Math & Science|249963|\n",
      "|    Health & Sports| 65721|\n",
      "|             Warmth|  9756|\n",
      "|Literacy & Language|466265|\n",
      "|   Music & The Arts| 56915|\n",
      "|      Special Needs| 37172|\n",
      "+-------------------+------+\n",
      "\n",
      "None\n",
      "+-------------+-----+\n",
      "| school_state|count|\n",
      "+-------------+-----+\n",
      "|         Utah|16331|\n",
      "|       Hawaii| 6780|\n",
      "|    Minnesota|11088|\n",
      "|         Ohio|21685|\n",
      "|     Arkansas|10425|\n",
      "|       Oregon|12845|\n",
      "|        Texas|78256|\n",
      "| North Dakota| 1165|\n",
      "| Pennsylvania|28742|\n",
      "|  Connecticut|15763|\n",
      "|     Nebraska| 2933|\n",
      "|      Vermont| 1193|\n",
      "|       Nevada|12045|\n",
      "|   Washington|22821|\n",
      "|     Illinois|46742|\n",
      "|     Oklahoma|23814|\n",
      "|     Delaware| 3301|\n",
      "|       Alaska| 3617|\n",
      "|   New Mexico| 4949|\n",
      "|West Virginia| 4780|\n",
      "+-------------+-----+\n",
      "only showing top 20 rows\n",
      "\n",
      "None\n",
      "+------------------+------+\n",
      "|project_grad_level| count|\n",
      "+------------------+------+\n",
      "|        Grades 6-8|173343|\n",
      "|           unknown|    46|\n",
      "|        Grades 3-5|347275|\n",
      "|       Grades 9-12|126982|\n",
      "|     Grades PreK-2|410306|\n",
      "+------------------+------+\n",
      "\n",
      "None\n",
      "+-----------------+------+\n",
      "|year_of_post_date| count|\n",
      "+-----------------+------+\n",
      "|             2016|242803|\n",
      "|             2017|268499|\n",
      "|             2014|157305|\n",
      "|             2013|124893|\n",
      "|             2018| 87014|\n",
      "|             2015|177438|\n",
      "+-----------------+------+\n",
      "\n",
      "None\n",
      "+--------------------+-------+\n",
      "|        project_type|  count|\n",
      "+--------------------+-------+\n",
      "|         Teacher-Led|1040941|\n",
      "|Professional Deve...|   9634|\n",
      "|         Student-Led|   7377|\n",
      "+--------------------+-------+\n",
      "\n",
      "None\n",
      "+-----------------+------+\n",
      "|school_metro_type| count|\n",
      "+-----------------+------+\n",
      "|          unknown| 85711|\n",
      "|         suburban|323102|\n",
      "|             town| 48942|\n",
      "|            rural|106846|\n",
      "|            urban|493351|\n",
      "+-----------------+------+\n",
      "\n",
      "None\n",
      "+--------------------+------+\n",
      "|     project_subcat1| count|\n",
      "+--------------------+------+\n",
      "|                 ESL| 47654|\n",
      "|         Team Sports|  7883|\n",
      "|       Gym & Fitness| 23069|\n",
      "|Environmental Sci...| 47973|\n",
      "|   Community Service|  4252|\n",
      "|   Health & Wellness| 33381|\n",
      "|  Parent Involvement|  1185|\n",
      "|     Extracurricular|  7157|\n",
      "|   Foreign Languages|  9010|\n",
      "|   Early Development| 44093|\n",
      "|              Warmth|  9756|\n",
      "|               Other| 14752|\n",
      "|Literature & Writing|117968|\n",
      "| Civics & Government|  8414|\n",
      "|    Applied Sciences|106649|\n",
      "|               Music| 31125|\n",
      "|         Mathematics| 68082|\n",
      "|  Financial Literacy|  4450|\n",
      "| Nutrition Education|  1388|\n",
      "|     Performing Arts|  6030|\n",
      "+--------------------+------+\n",
      "only showing top 20 rows\n",
      "\n",
      "None\n",
      "+------------------+------+\n",
      "|month_of_post_date| count|\n",
      "+------------------+------+\n",
      "|                 7| 66143|\n",
      "|                11| 92334|\n",
      "|                 3|101580|\n",
      "|                 8|135298|\n",
      "|                 5| 51865|\n",
      "|                 6| 48123|\n",
      "|                 9|153056|\n",
      "|                 1| 92949|\n",
      "|                10|106188|\n",
      "|                 4| 61701|\n",
      "|                12| 66753|\n",
      "|                 2| 81962|\n",
      "+------------------+------+\n",
      "\n",
      "None\n"
     ]
    }
   ],
   "source": [
    "for i in cat_features:\n",
    "    print(df.groupBy(i).count().show())"
   ]
  },
  {
   "cell_type": "code",
   "execution_count": 12,
   "metadata": {},
   "outputs": [],
   "source": [
    "#replace unknown in df\n",
    "replace_str = udf(lambda x: x.replace('unknown','Grades PreK-2'))\n",
    "df = df.withColumn('project_grad_level',replace_str('project_grad_level'))"
   ]
  },
  {
   "cell_type": "code",
   "execution_count": 13,
   "metadata": {},
   "outputs": [],
   "source": [
    "#replace unknown in df\n",
    "replace_str = udf(lambda x: x.replace('unknown','suburban'))\n",
    "df = df.withColumn('school_metro_type',replace_str('school_metro_type'))"
   ]
  },
  {
   "cell_type": "code",
   "execution_count": 14,
   "metadata": {},
   "outputs": [
    {
     "name": "stdout",
     "output_type": "stream",
     "text": [
      "+-----------------+------+\n",
      "|school_metro_type| count|\n",
      "+-----------------+------+\n",
      "|         suburban|408813|\n",
      "|             town| 48942|\n",
      "|            rural|106846|\n",
      "|            urban|493351|\n",
      "+-----------------+------+\n",
      "\n"
     ]
    }
   ],
   "source": [
    "df.groupBy('school_metro_type').count().show()"
   ]
  },
  {
   "cell_type": "code",
   "execution_count": 36,
   "metadata": {},
   "outputs": [
    {
     "name": "stdout",
     "output_type": "stream",
     "text": [
      "+------------------+------+\n",
      "|project_grad_level| count|\n",
      "+------------------+------+\n",
      "|        Grades 6-8|173343|\n",
      "|        Grades 3-5|347275|\n",
      "|       Grades 9-12|126982|\n",
      "|     Grades PreK-2|410352|\n",
      "+------------------+------+\n",
      "\n"
     ]
    }
   ],
   "source": [
    "df.groupBy('project_grad_level').count().show()"
   ]
  },
  {
   "cell_type": "markdown",
   "metadata": {},
   "source": [
    "#### Numeric Columns"
   ]
  },
  {
   "cell_type": "code",
   "execution_count": 15,
   "metadata": {},
   "outputs": [
    {
     "data": {
      "text/plain": [
       "['resources_total_quantity',\n",
       " 'resources_amount_sum',\n",
       " 'days_diff_exp',\n",
       " 'number_of_resources_needed',\n",
       " 'teacher_date_diff_exp',\n",
       " 'project_cost',\n",
       " 'school_percentage_free_lunch']"
      ]
     },
     "execution_count": 15,
     "metadata": {},
     "output_type": "execute_result"
    }
   ],
   "source": [
    "numeric_features = set(df.columns) - set(cat_features) - set(['project_status'])\n",
    "numeric_features = list(numeric_features)\n",
    "numeric_features"
   ]
  },
  {
   "cell_type": "code",
   "execution_count": 16,
   "metadata": {},
   "outputs": [
    {
     "data": {
      "text/plain": [
       "['resources_total_quantity',\n",
       " 'resources_amount_sum',\n",
       " 'days_diff_exp',\n",
       " 'number_of_resources_needed',\n",
       " 'teacher_date_diff_exp',\n",
       " 'project_cost',\n",
       " 'school_percentage_free_lunch']"
      ]
     },
     "execution_count": 16,
     "metadata": {},
     "output_type": "execute_result"
    }
   ],
   "source": [
    "numeric_features"
   ]
  },
  {
   "cell_type": "markdown",
   "metadata": {},
   "source": [
    "#### One Hot Encoding Variables"
   ]
  },
  {
   "cell_type": "code",
   "execution_count": 17,
   "metadata": {},
   "outputs": [],
   "source": [
    "from pyspark.ml.feature import OneHotEncoderEstimator, StringIndexer, VectorAssembler\n",
    "\n",
    "categoricalColumns = cat_features\n",
    "stages = []\n",
    "for categoricalCol in categoricalColumns:\n",
    "    stringIndexer = StringIndexer(inputCol = categoricalCol, outputCol = categoricalCol + 'Index')\n",
    "    encoder = OneHotEncoderEstimator(inputCols=[stringIndexer.getOutputCol()], outputCols=[categoricalCol + \"classVec\"])\n",
    "    stages += [stringIndexer, encoder]\n",
    "label_stringIdx = StringIndexer(inputCol = 'project_status', outputCol = 'label')\n",
    "stages += [label_stringIdx]\n",
    "numericCols = numeric_features\n",
    "assemblerInputs = [c + \"classVec\" for c in categoricalColumns] + numericCols\n",
    "assembler = VectorAssembler(inputCols=assemblerInputs, outputCol=\"features\")\n",
    "stages += [assembler]"
   ]
  },
  {
   "cell_type": "code",
   "execution_count": 18,
   "metadata": {},
   "outputs": [],
   "source": [
    "cols = cat_features + numeric_features + ['project_status']"
   ]
  },
  {
   "cell_type": "code",
   "execution_count": 19,
   "metadata": {},
   "outputs": [
    {
     "data": {
      "text/plain": [
       "['teacher_prefix',\n",
       " 'project_resource',\n",
       " 'project_cat1',\n",
       " 'school_state',\n",
       " 'project_grad_level',\n",
       " 'year_of_post_date',\n",
       " 'project_type',\n",
       " 'school_metro_type',\n",
       " 'project_subcat1',\n",
       " 'month_of_post_date',\n",
       " 'resources_total_quantity',\n",
       " 'resources_amount_sum',\n",
       " 'days_diff_exp',\n",
       " 'number_of_resources_needed',\n",
       " 'teacher_date_diff_exp',\n",
       " 'project_cost',\n",
       " 'school_percentage_free_lunch',\n",
       " 'project_status']"
      ]
     },
     "execution_count": 19,
     "metadata": {},
     "output_type": "execute_result"
    }
   ],
   "source": [
    "cols"
   ]
  },
  {
   "cell_type": "code",
   "execution_count": 20,
   "metadata": {},
   "outputs": [
    {
     "name": "stdout",
     "output_type": "stream",
     "text": [
      "root\n",
      " |-- label: double (nullable = false)\n",
      " |-- features: vector (nullable = true)\n",
      " |-- teacher_prefix: string (nullable = true)\n",
      " |-- project_resource: string (nullable = true)\n",
      " |-- project_cat1: string (nullable = true)\n",
      " |-- school_state: string (nullable = true)\n",
      " |-- project_grad_level: string (nullable = true)\n",
      " |-- year_of_post_date: string (nullable = true)\n",
      " |-- project_type: string (nullable = true)\n",
      " |-- school_metro_type: string (nullable = true)\n",
      " |-- project_subcat1: string (nullable = true)\n",
      " |-- month_of_post_date: string (nullable = true)\n",
      " |-- resources_total_quantity: double (nullable = true)\n",
      " |-- resources_amount_sum: double (nullable = true)\n",
      " |-- days_diff_exp: integer (nullable = true)\n",
      " |-- number_of_resources_needed: long (nullable = true)\n",
      " |-- teacher_date_diff_exp: integer (nullable = true)\n",
      " |-- project_cost: float (nullable = true)\n",
      " |-- school_percentage_free_lunch: float (nullable = true)\n",
      " |-- project_status: string (nullable = true)\n",
      "\n"
     ]
    }
   ],
   "source": [
    "from pyspark.ml import Pipeline\n",
    "pipeline = Pipeline(stages = stages)\n",
    "pipelineModel = pipeline.fit(df)\n",
    "ml_df = pipelineModel.transform(df)\n",
    "selectedCols = ['label', 'features'] + cols\n",
    "ml_df = ml_df.select(selectedCols)\n",
    "ml_df.printSchema()"
   ]
  },
  {
   "cell_type": "code",
   "execution_count": 21,
   "metadata": {},
   "outputs": [
    {
     "name": "stdout",
     "output_type": "stream",
     "text": [
      "+-----+--------------------+--------------+--------------------+-------------------+------------+------------------+-----------------+------------+-----------------+--------------------+------------------+------------------------+--------------------+-------------+--------------------------+---------------------+------------+----------------------------+--------------+\n",
      "|label|            features|teacher_prefix|    project_resource|       project_cat1|school_state|project_grad_level|year_of_post_date|project_type|school_metro_type|     project_subcat1|month_of_post_date|resources_total_quantity|resources_amount_sum|days_diff_exp|number_of_resources_needed|teacher_date_diff_exp|project_cost|school_percentage_free_lunch|project_status|\n",
      "+-----+--------------------+--------------+--------------------+-------------------+------------+------------------+-----------------+------------+-----------------+--------------------+------------------+------------------------+--------------------+-------------+--------------------------+---------------------+------------+----------------------------+--------------+\n",
      "|  0.0|(136,[0,7,21,29,8...|          Mrs.|               Books|Literacy & Language|       Texas|       Grades 9-12|             2017| Teacher-Led|            rural|Literature & Writing|                11|                    72.0|   202.4700002670288|          120|                        25|                  436|      698.15|                        80.0|  Fully Funded|\n",
      "|  0.0|(136,[0,7,21,29,8...|          Mrs.|               Books|Literacy & Language|       Texas|       Grades 9-12|             2017| Teacher-Led|            rural|Literature & Writing|                 1|                    30.0|  43.489999771118164|          129|                         6|                  129|      294.95|                        80.0|  Fully Funded|\n",
      "|  0.0|(136,[0,14,21,29,...|          Mrs.|Reading Nooks Des...|Literacy & Language|       Texas|       Grades 9-12|             2018| Teacher-Led|            rural|Literature & Writing|                 3|                     2.0|  314.99000549316406|          120|                         2|                  532|      411.42|                        80.0|  Fully Funded|\n",
      "|  0.0|(136,[0,7,21,29,8...|          Mrs.|               Books|Literacy & Language|       Texas|       Grades 9-12|             2017| Teacher-Led|            rural|Literature & Writing|                 7|                    50.0|   70.29999923706055|          122|                         7|                  317|      424.45|                        80.0|  Fully Funded|\n",
      "|  0.0|(136,[2,6,25,30,7...|           Mr.|          Technology|   Music & The Arts|    New York|        Grades 6-8|             2013| Teacher-Led|            urban|         Visual Arts|                12|                    24.0|   91.70000076293945|          116|                         4|                  116|      744.53|                        94.0|  Fully Funded|\n",
      "|  0.0|(136,[0,17,22,28,...|          Mrs.|       Lab Equipment|     Math & Science|  California|        Grades 3-5|             2018| Teacher-Led|         suburban|         Mathematics|                 3|                     1.0|               109.0|          121|                         1|                 1763|      177.19|                        85.0|  Fully Funded|\n",
      "|  0.0|(136,[0,10,27,28,...|          Mrs.|               Trips|      Special Needs|  California|       Grades 9-12|             2016| Teacher-Led|         suburban|       Special Needs|                 5|      17.073218968002863|   313.0476482818557|           13|                         1|                  968|     1010.89|                        88.0|  Fully Funded|\n",
      "|  1.0|(136,[0,10,27,28,...|          Mrs.|               Trips|      Special Needs|  California|       Grades 9-12|             2016| Teacher-Led|         suburban|       Special Needs|                 1|      17.073218968002863|   313.0476482818557|           94|                         1|                  951|      2719.8|                        85.0|       Expired|\n",
      "|  1.0|(136,[0,5,27,28,8...|          Mrs.|            Supplies|      Special Needs|  California|       Grades 9-12|             2016| Teacher-Led|         suburban|       Special Needs|                 8|                    31.0|   78.80999994277954|          121|                         6|                 1179|      568.86|                        85.0|       Expired|\n",
      "|  0.0|(136,[0,8,27,28,8...|          Mrs.|               Other|      Special Needs|  California|       Grades 9-12|             2015| Teacher-Led|         suburban|       Special Needs|                10|                    15.0|               116.0|          123|                         2|                  874|     1167.82|                        88.0|  Fully Funded|\n",
      "|  0.0|(136,[0,5,27,28,8...|          Mrs.|            Supplies|      Special Needs|  California|       Grades 9-12|             2017| Teacher-Led|         suburban|       Special Needs|                 3|                    10.0|                10.0|          120|                         1|                 1391|      165.47|                        88.0|  Fully Funded|\n",
      "|  0.0|(136,[0,8,27,28,8...|          Mrs.|               Other|      Special Needs|  California|       Grades 9-12|             2016| Student-Led|         suburban|       Special Needs|                 3|                    12.0|   141.9399995803833|          107|                         5|                 1000|      466.18|                        88.0|  Fully Funded|\n",
      "|  0.0|(136,[0,8,27,33,7...|          Mrs.|               Other|      Special Needs|    Illinois|        Grades 6-8|             2014| Teacher-Led|            urban|       Special Needs|                 9|                     6.0|  255.63000535964966|          112|                         5|                  482|      347.85|                        86.0|  Fully Funded|\n",
      "|  0.0|(136,[0,10,23,33,...|          Mrs.|               Trips|   Applied Learning|    Illinois|        Grades 6-8|             2014| Teacher-Led|            urban|     Extracurricular|                12|      17.073218968002863|   313.0476482818557|           76|                         1|                  522|     1468.24|                        86.0|  Fully Funded|\n",
      "|  0.0|(136,[0,5,27,28,8...|          Mrs.|            Supplies|      Special Needs|  California|       Grades 9-12|             2016| Teacher-Led|         suburban|       Special Needs|                 5|                     2.0|   117.4799976348877|          121|                         2|                 1094|      188.22|                        88.0|  Fully Funded|\n",
      "|  0.0|(136,[0,6,27,33,7...|          Mrs.|          Technology|      Special Needs|    Illinois|        Grades 6-8|             2013| Teacher-Led|            urban|       Special Needs|                 9|                     2.0|   680.5299987792969|          118|                         2|                  118|      847.93|                        86.0|  Fully Funded|\n",
      "|  0.0|(136,[0,6,27,33,7...|          Mrs.|          Technology|      Special Needs|    Illinois|        Grades 6-8|             2014| Teacher-Led|            urban|       Special Needs|                10|                     3.0|    379.989990234375|          118|                         1|                  504|     1396.55|                        86.0|  Fully Funded|\n",
      "|  1.0|(136,[0,10,27,28,...|          Mrs.|               Trips|      Special Needs|  California|       Grades 9-12|             2016| Teacher-Led|         suburban|       Special Needs|                12|      17.073218968002863|   313.0476482818557|           81|                         1|                 1277|     3701.24|                        85.0|       Expired|\n",
      "|  0.0|(136,[0,7,21,28,8...|          Mrs.|               Books|Literacy & Language|  California|       Grades 9-12|             2016| Teacher-Led|         suburban|Literature & Writing|                 8|                    29.0|  101.57000064849854|          121|                         5|                 1179|      413.49|                        88.0|  Fully Funded|\n",
      "|  0.0|(136,[0,5,26,28,8...|          Mrs.|            Supplies|   History & Civics|  California|       Grades 9-12|             2017| Teacher-Led|         suburban|     Social Sciences|                 9|                     7.0|   59.70000076293945|          122|                         4|                 1575|      174.11|                        88.0|  Fully Funded|\n",
      "+-----+--------------------+--------------+--------------------+-------------------+------------+------------------+-----------------+------------+-----------------+--------------------+------------------+------------------------+--------------------+-------------+--------------------------+---------------------+------------+----------------------------+--------------+\n",
      "only showing top 20 rows\n",
      "\n"
     ]
    }
   ],
   "source": [
    "ml_df.show(20)"
   ]
  },
  {
   "cell_type": "code",
   "execution_count": 22,
   "metadata": {},
   "outputs": [
    {
     "data": {
      "text/plain": [
       "[Row(features=SparseVector(136, {0: 1.0, 7: 1.0, 21: 1.0, 29: 1.0, 80: 1.0, 85: 1.0, 89: 1.0, 91: 1.0, 123: 1.0, 129: 72.0, 130: 202.47, 131: 120.0, 132: 25.0, 133: 436.0, 134: 698.15, 135: 80.0})),\n",
       " Row(features=SparseVector(136, {0: 1.0, 7: 1.0, 21: 1.0, 29: 1.0, 80: 1.0, 85: 1.0, 89: 1.0, 91: 1.0, 122: 1.0, 129: 30.0, 130: 43.49, 131: 129.0, 132: 6.0, 133: 129.0, 134: 294.95, 135: 80.0})),\n",
       " Row(features=SparseVector(136, {0: 1.0, 14: 1.0, 21: 1.0, 29: 1.0, 85: 1.0, 89: 1.0, 91: 1.0, 121: 1.0, 129: 2.0, 130: 314.99, 131: 120.0, 132: 2.0, 133: 532.0, 134: 411.42, 135: 80.0})),\n",
       " Row(features=SparseVector(136, {0: 1.0, 7: 1.0, 21: 1.0, 29: 1.0, 80: 1.0, 85: 1.0, 89: 1.0, 91: 1.0, 126: 1.0, 129: 50.0, 130: 70.3, 131: 122.0, 132: 7.0, 133: 317.0, 134: 424.45, 135: 80.0})),\n",
       " Row(features=SparseVector(136, {2: 1.0, 6: 1.0, 25: 1.0, 30: 1.0, 79: 1.0, 84: 1.0, 85: 1.0, 87: 1.0, 105: 1.0, 125: 1.0, 129: 24.0, 130: 91.7, 131: 116.0, 132: 4.0, 133: 116.0, 134: 744.53, 135: 94.0}))]"
      ]
     },
     "execution_count": 22,
     "metadata": {},
     "output_type": "execute_result"
    }
   ],
   "source": [
    "ml_df.select('features').take(5)"
   ]
  },
  {
   "cell_type": "code",
   "execution_count": 23,
   "metadata": {},
   "outputs": [
    {
     "name": "stdout",
     "output_type": "stream",
     "text": [
      "Training Dataset Count: 740806\n",
      "Test Dataset Count: 317146\n"
     ]
    }
   ],
   "source": [
    "train, test = ml_df.randomSplit([0.7, 0.3],seed=2019)\n",
    "print(\"Training Dataset Count: \" + str(train.count()))\n",
    "print(\"Test Dataset Count: \" + str(test.count()))"
   ]
  },
  {
   "cell_type": "code",
   "execution_count": 27,
   "metadata": {},
   "outputs": [],
   "source": [
    "train = train['features','label']"
   ]
  },
  {
   "cell_type": "markdown",
   "metadata": {},
   "source": [
    "### Logistic Regression"
   ]
  },
  {
   "cell_type": "code",
   "execution_count": 24,
   "metadata": {},
   "outputs": [],
   "source": [
    "from pyspark.ml.classification import LogisticRegression\n",
    "lr = LogisticRegression(featuresCol = 'features', labelCol = 'label', maxIter=10)\n",
    "lrModel = lr.fit(train)\n",
    "lr_predictions = lrModel.transform(test)"
   ]
  },
  {
   "cell_type": "code",
   "execution_count": 25,
   "metadata": {},
   "outputs": [
    {
     "name": "stdout",
     "output_type": "stream",
     "text": [
      "+-----+--------------------+--------------+----------------+-------------------+------------+------------------+-----------------+------------+-----------------+--------------------+------------------+------------------------+--------------------+-------------+--------------------------+---------------------+------------+----------------------------+--------------+--------------------+--------------------+----------+\n",
      "|label|            features|teacher_prefix|project_resource|       project_cat1|school_state|project_grad_level|year_of_post_date|project_type|school_metro_type|     project_subcat1|month_of_post_date|resources_total_quantity|resources_amount_sum|days_diff_exp|number_of_resources_needed|teacher_date_diff_exp|project_cost|school_percentage_free_lunch|project_status|       rawPrediction|         probability|prediction|\n",
      "+-----+--------------------+--------------+----------------+-------------------+------------+------------------+-----------------+------------+-----------------+--------------------+------------------+------------------------+--------------------+-------------+--------------------------+---------------------+------------+----------------------------+--------------+--------------------+--------------------+----------+\n",
      "|  0.0|(136,[0,5,21,28,7...|          Mrs.|        Supplies|Literacy & Language|  California|     Grades PreK-2|             2016| Teacher-Led|            urban|            Literacy|                 8|                     3.0|  414.65000343322754|          120|                         3|                 3906|      597.64|                        56.0|  Fully Funded|[0.95694008741547...|[0.72250874156607...|       0.0|\n",
      "|  0.0|(136,[0,5,21,28,7...|          Mrs.|        Supplies|Literacy & Language|  California|     Grades PreK-2|             2016| Teacher-Led|            urban|            Literacy|                 8|                    23.0|  125.31999969482422|          120|                         7|                 3905|      548.13|                        56.0|  Fully Funded|[1.10557349031330...|[0.75130295251810...|       0.0|\n",
      "|  0.0|(136,[0,5,21,28,7...|          Mrs.|        Supplies|Literacy & Language|  California|        Grades 3-5|             2017| Teacher-Led|            urban|Literature & Writing|                 3|                    15.0|  17.950000762939453|          121|                         1|                 1744|       385.8|                        48.0|  Fully Funded|[1.27222141090400...|[0.78112277966552...|       0.0|\n",
      "|  0.0|(136,[0,5,21,28,7...|          Mrs.|        Supplies|Literacy & Language|  California|        Grades 3-5|             2017| Teacher-Led|            urban|                 ESL|                 7|                     1.0|  238.35000610351562|          122|                         1|                  122|      345.58|                        95.0|  Fully Funded|[1.02665715338429...|[0.73626730222589...|       0.0|\n",
      "|  0.0|(136,[0,5,21,28,7...|          Mrs.|        Supplies|Literacy & Language|  California|        Grades 3-5|             2016| Teacher-Led|         suburban|Literature & Writing|                 1|                     8.0|   420.9400005340576|          119|                         8|                  280|      583.26|                        27.0|  Fully Funded|[1.16656383147614...|[0.76252335060925...|       0.0|\n",
      "+-----+--------------------+--------------+----------------+-------------------+------------+------------------+-----------------+------------+-----------------+--------------------+------------------+------------------------+--------------------+-------------+--------------------------+---------------------+------------+----------------------------+--------------+--------------------+--------------------+----------+\n",
      "only showing top 5 rows\n",
      "\n"
     ]
    }
   ],
   "source": [
    "lr_predictions.show(5)"
   ]
  },
  {
   "cell_type": "code",
   "execution_count": 26,
   "metadata": {},
   "outputs": [
    {
     "name": "stdout",
     "output_type": "stream",
     "text": [
      "Test Area Under ROC: 0.7177818868445346\n",
      "Accuracy: 0.7772949997792815\n",
      "F1 Score: 0.7031607668747024\n"
     ]
    }
   ],
   "source": [
    "#print evaluation metrics\n",
    "from pyspark.ml.evaluation import BinaryClassificationEvaluator\n",
    "from pyspark.ml.evaluation import MulticlassClassificationEvaluator\n",
    "\n",
    "evaluator = BinaryClassificationEvaluator()\n",
    "print(\"Test Area Under ROC: \" + str(evaluator.evaluate(lr_predictions, {evaluator.metricName: \"areaUnderROC\"})))\n",
    "\n",
    "evaluator = MulticlassClassificationEvaluator(labelCol=\"label\", predictionCol=\"prediction\")\n",
    "\n",
    "print('Accuracy:', evaluator.evaluate(lr_predictions, {evaluator.metricName: \"accuracy\"}))\n",
    "print('F1 Score:', evaluator.evaluate(lr_predictions, {evaluator.metricName: \"f1\"}))"
   ]
  },
  {
   "cell_type": "code",
   "execution_count": null,
   "metadata": {},
   "outputs": [],
   "source": [
    "print(\"Coefficients: \" + str(lrModel.coefficients))\n",
    "print(\"Intercept: \" + str(lrModel.intercept))"
   ]
  },
  {
   "cell_type": "code",
   "execution_count": 24,
   "metadata": {},
   "outputs": [
    {
     "data": {
      "text/plain": [
       "<Figure size 640x480 with 1 Axes>"
      ]
     },
     "metadata": {},
     "output_type": "display_data"
    },
    {
     "name": "stdout",
     "output_type": "stream",
     "text": [
      "Training set areaUnderROC: 0.7198936355732545\n"
     ]
    }
   ],
   "source": [
    "import matplotlib.pyplot as plt\n",
    "import numpy as np\n",
    "\n",
    "trainingSummary = lrModel.summary\n",
    "roc = trainingSummary.roc.toPandas()\n",
    "plt.plot(roc['FPR'],roc['TPR'])\n",
    "plt.ylabel('False Positive Rate')\n",
    "plt.xlabel('True Positive Rate')\n",
    "plt.title('ROC Curve')\n",
    "plt.show()\n",
    "print('Training set areaUnderROC: ' + str(trainingSummary.areaUnderROC))"
   ]
  },
  {
   "cell_type": "markdown",
   "metadata": {},
   "source": [
    "### Random Forest"
   ]
  },
  {
   "cell_type": "code",
   "execution_count": 27,
   "metadata": {},
   "outputs": [
    {
     "name": "stdout",
     "output_type": "stream",
     "text": [
      "+-----+--------------------+----------+--------------------+\n",
      "|label|       rawPrediction|prediction|         probability|\n",
      "+-----+--------------------+----------+--------------------+\n",
      "|  0.0|[77.3865740329326...|       0.0|[0.77386574032932...|\n",
      "|  0.0|[78.9130997586067...|       0.0|[0.78913099758606...|\n",
      "|  0.0|[79.3125358978453...|       0.0|[0.79312535897845...|\n",
      "|  0.0|[78.9784264062311...|       0.0|[0.78978426406231...|\n",
      "|  0.0|[77.9364753205222...|       0.0|[0.77936475320522...|\n",
      "|  0.0|[79.2898321952912...|       0.0|[0.79289832195291...|\n",
      "|  0.0|[76.0745443922988...|       0.0|[0.76074544392298...|\n",
      "|  0.0|[79.1025776378987...|       0.0|[0.79102577637898...|\n",
      "|  0.0|[75.0837610474281...|       0.0|[0.75083761047428...|\n",
      "|  0.0|[76.1427046978135...|       0.0|[0.76142704697813...|\n",
      "+-----+--------------------+----------+--------------------+\n",
      "only showing top 10 rows\n",
      "\n"
     ]
    }
   ],
   "source": [
    "from pyspark.ml.classification import RandomForestClassifier\n",
    "rf = RandomForestClassifier(featuresCol = 'features', labelCol = 'label',numTrees=100)\n",
    "rfModel = rf.fit(train)\n",
    "rf_predictions = rfModel.transform(test)\n",
    "rf_predictions.select('label', 'rawPrediction', 'prediction', 'probability').show(10)"
   ]
  },
  {
   "cell_type": "code",
   "execution_count": 28,
   "metadata": {},
   "outputs": [
    {
     "name": "stdout",
     "output_type": "stream",
     "text": [
      "Test Area Under ROC: 0.7001633551820505\n",
      "Accuracy: 0.7736310721245104\n",
      "F1 Score: 0.6748923664712432\n"
     ]
    }
   ],
   "source": [
    "#print evaluation metrics\n",
    "from pyspark.ml.evaluation import BinaryClassificationEvaluator\n",
    "from pyspark.ml.evaluation import MulticlassClassificationEvaluator\n",
    "\n",
    "evaluator = BinaryClassificationEvaluator()\n",
    "print(\"Test Area Under ROC: \" + str(evaluator.evaluate(rf_predictions, {evaluator.metricName: \"areaUnderROC\"})))\n",
    "\n",
    "evaluator = MulticlassClassificationEvaluator(labelCol=\"label\", predictionCol=\"prediction\")\n",
    "\n",
    "print('Accuracy:', evaluator.evaluate(rf_predictions, {evaluator.metricName: \"accuracy\"}))\n",
    "print('F1 Score:', evaluator.evaluate(rf_predictions, {evaluator.metricName: \"f1\"}))"
   ]
  },
  {
   "cell_type": "code",
   "execution_count": 29,
   "metadata": {},
   "outputs": [
    {
     "data": {
      "text/plain": [
       "SparseVector(136, {0: 0.0008, 1: 0.0124, 2: 0.0, 3: 0.0001, 5: 0.0023, 6: 0.1096, 7: 0.0481, 8: 0.0, 9: 0.0449, 10: 0.0001, 11: 0.0366, 12: 0.028, 13: 0.0063, 14: 0.033, 15: 0.0226, 16: 0.0158, 18: 0.0001, 19: 0.0032, 21: 0.0002, 22: 0.0001, 23: 0.0, 24: 0.0001, 25: 0.0001, 26: 0.0, 30: 0.0013, 31: 0.0001, 32: 0.0, 33: 0.0003, 34: 0.0008, 35: 0.0044, 36: 0.0001, 37: 0.0, 38: 0.0031, 39: 0.0002, 40: 0.0002, 41: 0.0001, 42: 0.0009, 43: 0.0, 45: 0.0, 47: 0.009, 48: 0.0, 50: 0.0003, 51: 0.0003, 52: 0.0, 53: 0.0, 55: 0.0006, 56: 0.0, 58: 0.0003, 59: 0.0002, 60: 0.0, 61: 0.0, 62: 0.0, 63: 0.0, 65: 0.0, 68: 0.0, 71: 0.0, 72: 0.0, 74: 0.0001, 77: 0.0011, 78: 0.0001, 79: 0.0, 80: 0.0061, 81: 0.0401, 82: 0.0011, 83: 0.0017, 84: 0.0126, 85: 0.0009, 86: 0.0007, 87: 0.0436, 88: 0.0001, 89: 0.0042, 90: 0.0003, 91: 0.0004, 92: 0.0, 94: 0.0001, 96: 0.0, 97: 0.0001, 98: 0.0, 99: 0.0, 101: 0.0001, 102: 0.0, 103: 0.0, 104: 0.0014, 107: 0.0292, 108: 0.0002, 109: 0.0001, 110: 0.0001, 111: 0.0001, 112: 0.0001, 114: 0.0001, 115: 0.0, 118: 0.0003, 119: 0.0, 120: 0.0064, 121: 0.0003, 122: 0.0257, 123: 0.0076, 124: 0.0046, 125: 0.0069, 126: 0.0054, 127: 0.0011, 128: 0.0173, 129: 0.0065, 130: 0.1203, 131: 0.0023, 132: 0.0423, 133: 0.0208, 134: 0.1997, 135: 0.0009})"
      ]
     },
     "execution_count": 29,
     "metadata": {},
     "output_type": "execute_result"
    }
   ],
   "source": [
    "rfModel.featureImportances"
   ]
  },
  {
   "cell_type": "code",
   "execution_count": 30,
   "metadata": {},
   "outputs": [],
   "source": [
    "def ExtractFeatureImp(featureImp, dataset, featuresCol):\n",
    "    list_extract = []\n",
    "    for i in dataset.schema[featuresCol].metadata[\"ml_attr\"][\"attrs\"]:\n",
    "        list_extract = list_extract + dataset.schema[featuresCol].metadata[\"ml_attr\"][\"attrs\"][i]\n",
    "    varlist = pd.DataFrame(list_extract)\n",
    "    varlist['score'] = varlist['idx'].apply(lambda x: featureImp[x])\n",
    "    return(varlist.sort_values('score', ascending = False))"
   ]
  },
  {
   "cell_type": "code",
   "execution_count": 31,
   "metadata": {},
   "outputs": [
    {
     "data": {
      "text/html": [
       "<div>\n",
       "<style scoped>\n",
       "    .dataframe tbody tr th:only-of-type {\n",
       "        vertical-align: middle;\n",
       "    }\n",
       "\n",
       "    .dataframe tbody tr th {\n",
       "        vertical-align: top;\n",
       "    }\n",
       "\n",
       "    .dataframe thead th {\n",
       "        text-align: right;\n",
       "    }\n",
       "</style>\n",
       "<table border=\"1\" class=\"dataframe\">\n",
       "  <thead>\n",
       "    <tr style=\"text-align: right;\">\n",
       "      <th></th>\n",
       "      <th>idx</th>\n",
       "      <th>name</th>\n",
       "      <th>score</th>\n",
       "    </tr>\n",
       "  </thead>\n",
       "  <tbody>\n",
       "    <tr>\n",
       "      <th>5</th>\n",
       "      <td>134</td>\n",
       "      <td>project_cost</td>\n",
       "      <td>0.199699</td>\n",
       "    </tr>\n",
       "    <tr>\n",
       "      <th>1</th>\n",
       "      <td>130</td>\n",
       "      <td>resources_amount_sum</td>\n",
       "      <td>0.120264</td>\n",
       "    </tr>\n",
       "    <tr>\n",
       "      <th>13</th>\n",
       "      <td>6</td>\n",
       "      <td>project_resourceclassVec_Technology</td>\n",
       "      <td>0.109606</td>\n",
       "    </tr>\n",
       "    <tr>\n",
       "      <th>14</th>\n",
       "      <td>7</td>\n",
       "      <td>project_resourceclassVec_Books</td>\n",
       "      <td>0.048106</td>\n",
       "    </tr>\n",
       "    <tr>\n",
       "      <th>16</th>\n",
       "      <td>9</td>\n",
       "      <td>project_resourceclassVec_Computers &amp; Tablets</td>\n",
       "      <td>0.044905</td>\n",
       "    </tr>\n",
       "    <tr>\n",
       "      <th>94</th>\n",
       "      <td>87</td>\n",
       "      <td>school_metro_typeclassVec_urban</td>\n",
       "      <td>0.043625</td>\n",
       "    </tr>\n",
       "    <tr>\n",
       "      <th>3</th>\n",
       "      <td>132</td>\n",
       "      <td>number_of_resources_needed</td>\n",
       "      <td>0.042336</td>\n",
       "    </tr>\n",
       "    <tr>\n",
       "      <th>88</th>\n",
       "      <td>81</td>\n",
       "      <td>year_of_post_dateclassVec_2016</td>\n",
       "      <td>0.040117</td>\n",
       "    </tr>\n",
       "    <tr>\n",
       "      <th>18</th>\n",
       "      <td>11</td>\n",
       "      <td>project_resourceclassVec_Educational Kits &amp; Games</td>\n",
       "      <td>0.036629</td>\n",
       "    </tr>\n",
       "    <tr>\n",
       "      <th>21</th>\n",
       "      <td>14</td>\n",
       "      <td>project_resourceclassVec_Reading Nooks Desks &amp;...</td>\n",
       "      <td>0.033014</td>\n",
       "    </tr>\n",
       "    <tr>\n",
       "      <th>114</th>\n",
       "      <td>107</td>\n",
       "      <td>project_subcat1classVec_Warmth</td>\n",
       "      <td>0.029178</td>\n",
       "    </tr>\n",
       "    <tr>\n",
       "      <th>19</th>\n",
       "      <td>12</td>\n",
       "      <td>project_resourceclassVec_Instructional Technology</td>\n",
       "      <td>0.028041</td>\n",
       "    </tr>\n",
       "    <tr>\n",
       "      <th>129</th>\n",
       "      <td>122</td>\n",
       "      <td>month_of_post_dateclassVec_1</td>\n",
       "      <td>0.025706</td>\n",
       "    </tr>\n",
       "    <tr>\n",
       "      <th>22</th>\n",
       "      <td>15</td>\n",
       "      <td>project_resourceclassVec_Classroom Basics</td>\n",
       "      <td>0.022556</td>\n",
       "    </tr>\n",
       "    <tr>\n",
       "      <th>4</th>\n",
       "      <td>133</td>\n",
       "      <td>teacher_date_diff_exp</td>\n",
       "      <td>0.020814</td>\n",
       "    </tr>\n",
       "    <tr>\n",
       "      <th>135</th>\n",
       "      <td>128</td>\n",
       "      <td>month_of_post_dateclassVec_5</td>\n",
       "      <td>0.017316</td>\n",
       "    </tr>\n",
       "    <tr>\n",
       "      <th>23</th>\n",
       "      <td>16</td>\n",
       "      <td>project_resourceclassVec_Art Supplies</td>\n",
       "      <td>0.015841</td>\n",
       "    </tr>\n",
       "    <tr>\n",
       "      <th>91</th>\n",
       "      <td>84</td>\n",
       "      <td>year_of_post_dateclassVec_2013</td>\n",
       "      <td>0.012606</td>\n",
       "    </tr>\n",
       "    <tr>\n",
       "      <th>8</th>\n",
       "      <td>1</td>\n",
       "      <td>teacher_prefixclassVec_Ms.</td>\n",
       "      <td>0.012405</td>\n",
       "    </tr>\n",
       "    <tr>\n",
       "      <th>54</th>\n",
       "      <td>47</td>\n",
       "      <td>school_stateclassVec_Louisiana</td>\n",
       "      <td>0.008993</td>\n",
       "    </tr>\n",
       "  </tbody>\n",
       "</table>\n",
       "</div>"
      ],
      "text/plain": [
       "     idx                                               name     score\n",
       "5    134                                       project_cost  0.199699\n",
       "1    130                               resources_amount_sum  0.120264\n",
       "13     6                project_resourceclassVec_Technology  0.109606\n",
       "14     7                     project_resourceclassVec_Books  0.048106\n",
       "16     9       project_resourceclassVec_Computers & Tablets  0.044905\n",
       "94    87                    school_metro_typeclassVec_urban  0.043625\n",
       "3    132                         number_of_resources_needed  0.042336\n",
       "88    81                     year_of_post_dateclassVec_2016  0.040117\n",
       "18    11  project_resourceclassVec_Educational Kits & Games  0.036629\n",
       "21    14  project_resourceclassVec_Reading Nooks Desks &...  0.033014\n",
       "114  107                     project_subcat1classVec_Warmth  0.029178\n",
       "19    12  project_resourceclassVec_Instructional Technology  0.028041\n",
       "129  122                       month_of_post_dateclassVec_1  0.025706\n",
       "22    15          project_resourceclassVec_Classroom Basics  0.022556\n",
       "4    133                              teacher_date_diff_exp  0.020814\n",
       "135  128                       month_of_post_dateclassVec_5  0.017316\n",
       "23    16              project_resourceclassVec_Art Supplies  0.015841\n",
       "91    84                     year_of_post_dateclassVec_2013  0.012606\n",
       "8      1                         teacher_prefixclassVec_Ms.  0.012405\n",
       "54    47                     school_stateclassVec_Louisiana  0.008993"
      ]
     },
     "execution_count": 31,
     "metadata": {},
     "output_type": "execute_result"
    }
   ],
   "source": [
    "ExtractFeatureImp(rfModel.featureImportances, rf_predictions, \"features\")[0:20]\n"
   ]
  },
  {
   "cell_type": "markdown",
   "metadata": {},
   "source": [
    "### Gradient Boosting"
   ]
  },
  {
   "cell_type": "code",
   "execution_count": 32,
   "metadata": {},
   "outputs": [
    {
     "name": "stdout",
     "output_type": "stream",
     "text": [
      "+-----+--------------------+----------+--------------------+\n",
      "|label|       rawPrediction|prediction|         probability|\n",
      "+-----+--------------------+----------+--------------------+\n",
      "|  0.0|[0.45690849040772...|       0.0|[0.71378059963248...|\n",
      "|  0.0|[0.45690849040772...|       0.0|[0.71378059963248...|\n",
      "|  0.0|[0.71370483691703...|       0.0|[0.80649739206479...|\n",
      "|  0.0|[0.75298273397177...|       0.0|[0.81846251955810...|\n",
      "|  0.0|[0.53829383018210...|       0.0|[0.74584768675451...|\n",
      "|  0.0|[0.92995506010174...|       0.0|[0.86528647148212...|\n",
      "|  0.0|[0.35235271263871...|       0.0|[0.66923019863204...|\n",
      "|  0.0|[1.16911796354030...|       0.0|[0.91199460275360...|\n",
      "|  0.0|[0.31731554744659...|       0.0|[0.65353880598453...|\n",
      "|  0.0|[0.07787865713602...|       0.0|[0.53886079563713...|\n",
      "+-----+--------------------+----------+--------------------+\n",
      "only showing top 10 rows\n",
      "\n"
     ]
    }
   ],
   "source": [
    "from pyspark.ml.classification import GBTClassifier\n",
    "gbt = GBTClassifier(maxIter=10)\n",
    "gbtModel = gbt.fit(train)\n",
    "gb_predictions = gbtModel.transform(test)\n",
    "gb_predictions.select('label', 'rawPrediction', 'prediction', 'probability').show(10)"
   ]
  },
  {
   "cell_type": "code",
   "execution_count": 33,
   "metadata": {},
   "outputs": [
    {
     "name": "stdout",
     "output_type": "stream",
     "text": [
      "Test Area Under ROC: 0.730820596656474\n",
      "Accuracy: 0.7814791925485423\n",
      "F1 Score: 0.7254190399704524\n"
     ]
    }
   ],
   "source": [
    "#print evaluation metrics\n",
    "from pyspark.ml.evaluation import BinaryClassificationEvaluator\n",
    "from pyspark.ml.evaluation import MulticlassClassificationEvaluator\n",
    "\n",
    "evaluator = BinaryClassificationEvaluator()\n",
    "print(\"Test Area Under ROC: \" + str(evaluator.evaluate(gb_predictions, {evaluator.metricName: \"areaUnderROC\"})))\n",
    "\n",
    "evaluator = MulticlassClassificationEvaluator(labelCol=\"label\", predictionCol=\"prediction\")\n",
    "\n",
    "print('Accuracy:', evaluator.evaluate(gb_predictions, {evaluator.metricName: \"accuracy\"}))\n",
    "print('F1 Score:', evaluator.evaluate(gb_predictions, {evaluator.metricName: \"f1\"}))"
   ]
  },
  {
   "cell_type": "code",
   "execution_count": 34,
   "metadata": {},
   "outputs": [
    {
     "data": {
      "text/html": [
       "<div>\n",
       "<style scoped>\n",
       "    .dataframe tbody tr th:only-of-type {\n",
       "        vertical-align: middle;\n",
       "    }\n",
       "\n",
       "    .dataframe tbody tr th {\n",
       "        vertical-align: top;\n",
       "    }\n",
       "\n",
       "    .dataframe thead th {\n",
       "        text-align: right;\n",
       "    }\n",
       "</style>\n",
       "<table border=\"1\" class=\"dataframe\">\n",
       "  <thead>\n",
       "    <tr style=\"text-align: right;\">\n",
       "      <th></th>\n",
       "      <th>idx</th>\n",
       "      <th>name</th>\n",
       "      <th>score</th>\n",
       "    </tr>\n",
       "  </thead>\n",
       "  <tbody>\n",
       "    <tr>\n",
       "      <th>5</th>\n",
       "      <td>134</td>\n",
       "      <td>project_cost</td>\n",
       "      <td>0.330226</td>\n",
       "    </tr>\n",
       "    <tr>\n",
       "      <th>87</th>\n",
       "      <td>80</td>\n",
       "      <td>year_of_post_dateclassVec_2017</td>\n",
       "      <td>0.060403</td>\n",
       "    </tr>\n",
       "    <tr>\n",
       "      <th>28</th>\n",
       "      <td>21</td>\n",
       "      <td>project_cat1classVec_Literacy &amp; Language</td>\n",
       "      <td>0.059584</td>\n",
       "    </tr>\n",
       "    <tr>\n",
       "      <th>94</th>\n",
       "      <td>87</td>\n",
       "      <td>school_metro_typeclassVec_urban</td>\n",
       "      <td>0.059013</td>\n",
       "    </tr>\n",
       "    <tr>\n",
       "      <th>88</th>\n",
       "      <td>81</td>\n",
       "      <td>year_of_post_dateclassVec_2016</td>\n",
       "      <td>0.054854</td>\n",
       "    </tr>\n",
       "    <tr>\n",
       "      <th>131</th>\n",
       "      <td>124</td>\n",
       "      <td>month_of_post_dateclassVec_2</td>\n",
       "      <td>0.037360</td>\n",
       "    </tr>\n",
       "    <tr>\n",
       "      <th>91</th>\n",
       "      <td>84</td>\n",
       "      <td>year_of_post_dateclassVec_2013</td>\n",
       "      <td>0.035636</td>\n",
       "    </tr>\n",
       "    <tr>\n",
       "      <th>132</th>\n",
       "      <td>125</td>\n",
       "      <td>month_of_post_dateclassVec_12</td>\n",
       "      <td>0.033945</td>\n",
       "    </tr>\n",
       "    <tr>\n",
       "      <th>129</th>\n",
       "      <td>122</td>\n",
       "      <td>month_of_post_dateclassVec_1</td>\n",
       "      <td>0.032958</td>\n",
       "    </tr>\n",
       "    <tr>\n",
       "      <th>7</th>\n",
       "      <td>0</td>\n",
       "      <td>teacher_prefixclassVec_Mrs.</td>\n",
       "      <td>0.028112</td>\n",
       "    </tr>\n",
       "    <tr>\n",
       "      <th>16</th>\n",
       "      <td>9</td>\n",
       "      <td>project_resourceclassVec_Computers &amp; Tablets</td>\n",
       "      <td>0.026576</td>\n",
       "    </tr>\n",
       "    <tr>\n",
       "      <th>89</th>\n",
       "      <td>82</td>\n",
       "      <td>year_of_post_dateclassVec_2015</td>\n",
       "      <td>0.024362</td>\n",
       "    </tr>\n",
       "    <tr>\n",
       "      <th>42</th>\n",
       "      <td>35</td>\n",
       "      <td>school_stateclassVec_South Carolina</td>\n",
       "      <td>0.021848</td>\n",
       "    </tr>\n",
       "    <tr>\n",
       "      <th>135</th>\n",
       "      <td>128</td>\n",
       "      <td>month_of_post_dateclassVec_5</td>\n",
       "      <td>0.021252</td>\n",
       "    </tr>\n",
       "    <tr>\n",
       "      <th>3</th>\n",
       "      <td>132</td>\n",
       "      <td>number_of_resources_needed</td>\n",
       "      <td>0.020017</td>\n",
       "    </tr>\n",
       "    <tr>\n",
       "      <th>133</th>\n",
       "      <td>126</td>\n",
       "      <td>month_of_post_dateclassVec_7</td>\n",
       "      <td>0.019659</td>\n",
       "    </tr>\n",
       "    <tr>\n",
       "      <th>45</th>\n",
       "      <td>38</td>\n",
       "      <td>school_stateclassVec_Massachusetts</td>\n",
       "      <td>0.018050</td>\n",
       "    </tr>\n",
       "    <tr>\n",
       "      <th>4</th>\n",
       "      <td>133</td>\n",
       "      <td>teacher_date_diff_exp</td>\n",
       "      <td>0.015649</td>\n",
       "    </tr>\n",
       "    <tr>\n",
       "      <th>2</th>\n",
       "      <td>131</td>\n",
       "      <td>days_diff_exp</td>\n",
       "      <td>0.015404</td>\n",
       "    </tr>\n",
       "    <tr>\n",
       "      <th>6</th>\n",
       "      <td>135</td>\n",
       "      <td>school_percentage_free_lunch</td>\n",
       "      <td>0.012612</td>\n",
       "    </tr>\n",
       "  </tbody>\n",
       "</table>\n",
       "</div>"
      ],
      "text/plain": [
       "     idx                                          name     score\n",
       "5    134                                  project_cost  0.330226\n",
       "87    80                year_of_post_dateclassVec_2017  0.060403\n",
       "28    21      project_cat1classVec_Literacy & Language  0.059584\n",
       "94    87               school_metro_typeclassVec_urban  0.059013\n",
       "88    81                year_of_post_dateclassVec_2016  0.054854\n",
       "131  124                  month_of_post_dateclassVec_2  0.037360\n",
       "91    84                year_of_post_dateclassVec_2013  0.035636\n",
       "132  125                 month_of_post_dateclassVec_12  0.033945\n",
       "129  122                  month_of_post_dateclassVec_1  0.032958\n",
       "7      0                   teacher_prefixclassVec_Mrs.  0.028112\n",
       "16     9  project_resourceclassVec_Computers & Tablets  0.026576\n",
       "89    82                year_of_post_dateclassVec_2015  0.024362\n",
       "42    35           school_stateclassVec_South Carolina  0.021848\n",
       "135  128                  month_of_post_dateclassVec_5  0.021252\n",
       "3    132                    number_of_resources_needed  0.020017\n",
       "133  126                  month_of_post_dateclassVec_7  0.019659\n",
       "45    38            school_stateclassVec_Massachusetts  0.018050\n",
       "4    133                         teacher_date_diff_exp  0.015649\n",
       "2    131                                 days_diff_exp  0.015404\n",
       "6    135                  school_percentage_free_lunch  0.012612"
      ]
     },
     "execution_count": 34,
     "metadata": {},
     "output_type": "execute_result"
    }
   ],
   "source": [
    "ExtractFeatureImp(gbtModel.featureImportances, gb_predictions, \"features\")[0:20]\n"
   ]
  },
  {
   "cell_type": "markdown",
   "metadata": {},
   "source": [
    "### Cross Validation with Gradient Boosting"
   ]
  },
  {
   "cell_type": "code",
   "execution_count": 35,
   "metadata": {},
   "outputs": [
    {
     "data": {
      "text/plain": [
       "0.7254190399704524"
      ]
     },
     "execution_count": 35,
     "metadata": {},
     "output_type": "execute_result"
    }
   ],
   "source": [
    "from pyspark.ml.tuning import ParamGridBuilder, CrossValidator\n",
    "\n",
    "evaluator = MulticlassClassificationEvaluator(labelCol=\"label\", predictionCol=\"prediction\", metricName=\"f1\")\n",
    "\n",
    "paramGrid = (ParamGridBuilder()\n",
    "             .addGrid(gbt.maxIter, [10])\n",
    "             .build())\n",
    "\n",
    "cv = CrossValidator(estimator=gbt, estimatorParamMaps=paramGrid, evaluator=evaluator, numFolds=5)\n",
    "cvModel = cv.fit(train)\n",
    "cv_predictions= cvModel.transform(test)\n",
    "evaluator.evaluate(cv_predictions)"
   ]
  }
 ],
 "metadata": {
  "kernelspec": {
   "display_name": "Python 3",
   "language": "python",
   "name": "python3"
  },
  "language_info": {
   "codemirror_mode": {
    "name": "ipython",
    "version": 3
   },
   "file_extension": ".py",
   "mimetype": "text/x-python",
   "name": "python",
   "nbconvert_exporter": "python",
   "pygments_lexer": "ipython3",
   "version": "3.6.8"
  }
 },
 "nbformat": 4,
 "nbformat_minor": 2
}
