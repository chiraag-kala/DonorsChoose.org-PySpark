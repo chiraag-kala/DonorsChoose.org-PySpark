{
 "cells": [
  {
   "cell_type": "code",
   "execution_count": 1,
   "metadata": {},
   "outputs": [],
   "source": [
    "#import statements\n",
    "import pandas as pd\n",
    "import numpy as np\n",
    "from pyspark.sql import HiveContext\n",
    "from pyspark.sql import SparkSession\n",
    "from pyspark.sql.functions import *\n",
    "import matplotlib.pyplot as plt\n",
    "import seaborn as sns\n",
    "# !pip install --user seaborn\n",
    "# !pip install --user --upgrade pip\n",
    "\n",
    "spark = SparkSession.builder.appName('ReadData').getOrCreate()\n",
    "sc = spark.sparkContext\n",
    "hive_context = HiveContext(sc)"
   ]
  },
  {
   "cell_type": "code",
   "execution_count": 2,
   "metadata": {},
   "outputs": [],
   "source": [
    "# dfzip = spark.read.format(\"csv\").option(\"header\", \"true\").load(\"./project/zipcode/zip_code_database.csv\")"
   ]
  },
  {
   "cell_type": "code",
   "execution_count": 3,
   "metadata": {},
   "outputs": [
    {
     "data": {
      "text/plain": [
       "[('project_id', 'string'),\n",
       " ('school_id', 'string'),\n",
       " ('teacher_id', 'string'),\n",
       " ('project_seq', 'int'),\n",
       " ('project_type', 'string'),\n",
       " ('project_grad_level', 'string'),\n",
       " ('project_resource', 'string'),\n",
       " ('project_cost', 'float'),\n",
       " ('project_post_date', 'date'),\n",
       " ('project_exp_date', 'date'),\n",
       " ('project_status', 'string'),\n",
       " ('project_full_fund_date', 'date'),\n",
       " ('project_cat1', 'string'),\n",
       " ('project_cat2', 'string'),\n",
       " ('project_subcat1', 'string'),\n",
       " ('project_subcat2', 'string'),\n",
       " ('school_name', 'string'),\n",
       " ('school_metro_type', 'string'),\n",
       " ('school_percentage_free_lunch', 'float'),\n",
       " ('school_state', 'string'),\n",
       " ('school_zip', 'string'),\n",
       " ('school_city', 'string'),\n",
       " ('school_county', 'string'),\n",
       " ('school_district', 'string'),\n",
       " ('donation_amount_sum', 'double'),\n",
       " ('number_of_donations', 'bigint'),\n",
       " ('number_of_resources_needed', 'bigint'),\n",
       " ('resources_amount_sum', 'double'),\n",
       " ('resources_total_quantity', 'double'),\n",
       " ('teacher_prefix', 'string'),\n",
       " ('teacher_first_project_posted_date', 'date'),\n",
       " ('days_diff_exp', 'int'),\n",
       " ('month_of_post_date', 'int'),\n",
       " ('year_of_post_date', 'int'),\n",
       " ('teacher_date_diff_exp', 'int')]"
      ]
     },
     "execution_count": 3,
     "metadata": {},
     "output_type": "execute_result"
    }
   ],
   "source": [
    "joined = hive_context.table(\"donor.final_projects_joined\")\n",
    "joined.dtypes"
   ]
  },
  {
   "cell_type": "code",
   "execution_count": 4,
   "metadata": {},
   "outputs": [],
   "source": [
    "donation_donor = hive_context.table(\"donor.donation_donor\")"
   ]
  },
  {
   "cell_type": "code",
   "execution_count": 5,
   "metadata": {},
   "outputs": [],
   "source": [
    "school = hive_context.table(\"donor.schools\")\n",
    "school = school.filter(school['school_id'] != 'School ID')"
   ]
  },
  {
   "cell_type": "code",
   "execution_count": 6,
   "metadata": {},
   "outputs": [],
   "source": [
    "resources = hive_context.table(\"donor.resources\")\n",
    "resources = resources.filter(resources['project_id'] != 'Project ID')"
   ]
  },
  {
   "cell_type": "code",
   "execution_count": 7,
   "metadata": {},
   "outputs": [],
   "source": [
    "project = hive_context.table(\"donor.projects\")\n",
    "project = project.filter(project['project_id'] != 'Project ID')"
   ]
  },
  {
   "cell_type": "markdown",
   "metadata": {},
   "source": [
    "Count how many are teachers"
   ]
  },
  {
   "cell_type": "code",
   "execution_count": 8,
   "metadata": {},
   "outputs": [],
   "source": [
    "eda1 = donation_donor.groupby('donor_id',\"donor_is_teacher\").count().groupby('donor_is_teacher').count()"
   ]
  },
  {
   "cell_type": "code",
   "execution_count": 9,
   "metadata": {},
   "outputs": [
    {
     "data": {
      "text/html": [
       "<div>\n",
       "<style scoped>\n",
       "    .dataframe tbody tr th:only-of-type {\n",
       "        vertical-align: middle;\n",
       "    }\n",
       "\n",
       "    .dataframe tbody tr th {\n",
       "        vertical-align: top;\n",
       "    }\n",
       "\n",
       "    .dataframe thead th {\n",
       "        text-align: right;\n",
       "    }\n",
       "</style>\n",
       "<table border=\"1\" class=\"dataframe\">\n",
       "  <thead>\n",
       "    <tr style=\"text-align: right;\">\n",
       "      <th></th>\n",
       "      <th>donor_is_teacher</th>\n",
       "      <th>count</th>\n",
       "    </tr>\n",
       "  </thead>\n",
       "  <tbody>\n",
       "    <tr>\n",
       "      <th>0</th>\n",
       "      <td>No</td>\n",
       "      <td>1808723</td>\n",
       "    </tr>\n",
       "    <tr>\n",
       "      <th>1</th>\n",
       "      <td>Yes</td>\n",
       "      <td>210239</td>\n",
       "    </tr>\n",
       "  </tbody>\n",
       "</table>\n",
       "</div>"
      ],
      "text/plain": [
       "  donor_is_teacher    count\n",
       "0               No  1808723\n",
       "1              Yes   210239"
      ]
     },
     "execution_count": 9,
     "metadata": {},
     "output_type": "execute_result"
    }
   ],
   "source": [
    "eda1pd = eda1.toPandas()\n",
    "eda1pd"
   ]
  },
  {
   "cell_type": "code",
   "execution_count": 10,
   "metadata": {},
   "outputs": [
    {
     "data": {
      "image/png": "[encoded data removed]",
      "text/plain": [
       "<Figure size 432x288 with 1 Axes>"
      ]
     },
     "metadata": {},
     "output_type": "display_data"
    }
   ],
   "source": [
    "fig = plt.figure()\n",
    "plt.pie(eda1pd['count'],labels = eda1pd['donor_is_teacher'],autopct='%1.1f%%', shadow=True, startangle=140)\n",
    "plt.axis('equal')\n",
    "plt.title('Teacher in All Donors')\n",
    "fig.savefig('teacher_in_all.png')"
   ]
  },
  {
   "cell_type": "code",
   "execution_count": 11,
   "metadata": {},
   "outputs": [],
   "source": [
    "eda1b = donation_donor.groupby('donor_id',\"donor_is_teacher\").count().withColumnRenamed(\"count\", \"num_times\")"
   ]
  },
  {
   "cell_type": "code",
   "execution_count": 12,
   "metadata": {},
   "outputs": [],
   "source": [
    "eda1c = eda1b.groupby('donor_is_teacher').agg(count('donor_id'), sum('num_times'))\\\n",
    ".withColumnRenamed(\"count(donor_id)\", \"count_all_donor\").withColumnRenamed(\"sum(num_times)\", \"total_donation_times\")"
   ]
  },
  {
   "cell_type": "code",
   "execution_count": 13,
   "metadata": {},
   "outputs": [
    {
     "data": {
      "text/html": [
       "<div>\n",
       "<style scoped>\n",
       "    .dataframe tbody tr th:only-of-type {\n",
       "        vertical-align: middle;\n",
       "    }\n",
       "\n",
       "    .dataframe tbody tr th {\n",
       "        vertical-align: top;\n",
       "    }\n",
       "\n",
       "    .dataframe thead th {\n",
       "        text-align: right;\n",
       "    }\n",
       "</style>\n",
       "<table border=\"1\" class=\"dataframe\">\n",
       "  <thead>\n",
       "    <tr style=\"text-align: right;\">\n",
       "      <th></th>\n",
       "      <th>donor_is_teacher</th>\n",
       "      <th>count_all_donor</th>\n",
       "      <th>total_donation_times</th>\n",
       "    </tr>\n",
       "  </thead>\n",
       "  <tbody>\n",
       "    <tr>\n",
       "      <th>0</th>\n",
       "      <td>No</td>\n",
       "      <td>1808723</td>\n",
       "      <td>3342679</td>\n",
       "    </tr>\n",
       "    <tr>\n",
       "      <th>1</th>\n",
       "      <td>Yes</td>\n",
       "      <td>210239</td>\n",
       "      <td>1339221</td>\n",
       "    </tr>\n",
       "  </tbody>\n",
       "</table>\n",
       "</div>"
      ],
      "text/plain": [
       "  donor_is_teacher  count_all_donor  total_donation_times\n",
       "0               No          1808723               3342679\n",
       "1              Yes           210239               1339221"
      ]
     },
     "execution_count": 13,
     "metadata": {},
     "output_type": "execute_result"
    }
   ],
   "source": [
    "eda1cpd = eda1c.toPandas()\n",
    "eda1cpd"
   ]
  },
  {
   "cell_type": "code",
   "execution_count": 14,
   "metadata": {},
   "outputs": [
    {
     "data": {
      "image/png": "[encoded data removed]",
      "text/plain": [
       "<Figure size 432x288 with 1 Axes>"
      ]
     },
     "metadata": {},
     "output_type": "display_data"
    }
   ],
   "source": [
    "fig = plt.figure()\n",
    "plt.pie(eda1cpd['total_donation_times'],labels = eda1cpd['donor_is_teacher'],autopct='%1.1f%%', shadow=True, startangle=140)\n",
    "plt.axis('equal')\n",
    "plt.title('Total Donation Times: Teacher in All Donors')\n",
    "fig.savefig('doanation_times_teacher_in_all.png')"
   ]
  },
  {
   "cell_type": "markdown",
   "metadata": {},
   "source": [
    "Count multi-time donors"
   ]
  },
  {
   "cell_type": "code",
   "execution_count": 15,
   "metadata": {},
   "outputs": [],
   "source": [
    "eda2 = donation_donor.groupby('donor_id',\"donor_is_teacher\").count().filter('count > 1')\n",
    "eda2 = eda2.withColumnRenamed(\"count\", \"num_times\")"
   ]
  },
  {
   "cell_type": "code",
   "execution_count": 16,
   "metadata": {},
   "outputs": [],
   "source": [
    "eda2a = eda2.groupby('donor_is_teacher').count().withColumnRenamed(\"count\", \"count_multi_times_donor\")"
   ]
  },
  {
   "cell_type": "code",
   "execution_count": 17,
   "metadata": {},
   "outputs": [],
   "source": [
    "eda2b = eda2.groupby('donor_is_teacher').agg(count('donor_id'), sum('num_times'))\\\n",
    ".withColumnRenamed(\"count(donor_id)\", \"count_multi_times_donor\").withColumnRenamed(\"sum(num_times)\", \"total_donation_times\")"
   ]
  },
  {
   "cell_type": "code",
   "execution_count": 18,
   "metadata": {},
   "outputs": [
    {
     "data": {
      "text/html": [
       "<div>\n",
       "<style scoped>\n",
       "    .dataframe tbody tr th:only-of-type {\n",
       "        vertical-align: middle;\n",
       "    }\n",
       "\n",
       "    .dataframe tbody tr th {\n",
       "        vertical-align: top;\n",
       "    }\n",
       "\n",
       "    .dataframe thead th {\n",
       "        text-align: right;\n",
       "    }\n",
       "</style>\n",
       "<table border=\"1\" class=\"dataframe\">\n",
       "  <thead>\n",
       "    <tr style=\"text-align: right;\">\n",
       "      <th></th>\n",
       "      <th>donor_is_teacher</th>\n",
       "      <th>count_multi_times_donor</th>\n",
       "      <th>total_donation_times</th>\n",
       "    </tr>\n",
       "  </thead>\n",
       "  <tbody>\n",
       "    <tr>\n",
       "      <th>0</th>\n",
       "      <td>No</td>\n",
       "      <td>419598</td>\n",
       "      <td>1953554</td>\n",
       "    </tr>\n",
       "    <tr>\n",
       "      <th>1</th>\n",
       "      <td>Yes</td>\n",
       "      <td>133074</td>\n",
       "      <td>1262056</td>\n",
       "    </tr>\n",
       "  </tbody>\n",
       "</table>\n",
       "</div>"
      ],
      "text/plain": [
       "  donor_is_teacher  count_multi_times_donor  total_donation_times\n",
       "0               No                   419598               1953554\n",
       "1              Yes                   133074               1262056"
      ]
     },
     "execution_count": 18,
     "metadata": {},
     "output_type": "execute_result"
    }
   ],
   "source": [
    "eda2bpd = eda2b.toPandas()\n",
    "eda2bpd"
   ]
  },
  {
   "cell_type": "code",
   "execution_count": 19,
   "metadata": {},
   "outputs": [
    {
     "data": {
      "image/png": "[encoded data removed]",
      "text/plain": [
       "<Figure size 432x288 with 1 Axes>"
      ]
     },
     "metadata": {},
     "output_type": "display_data"
    }
   ],
   "source": [
    "fig = plt.figure()\n",
    "plt.pie(eda2bpd['count_multi_times_donor'],labels = eda2bpd['donor_is_teacher'],autopct='%1.1f%%', shadow=True, startangle=140)\n",
    "plt.axis('equal')\n",
    "plt.title('Teacher in Multi-time Donors')\n",
    "fig.savefig('teacher_in_multi.png')"
   ]
  },
  {
   "cell_type": "code",
   "execution_count": 20,
   "metadata": {},
   "outputs": [
    {
     "data": {
      "image/png": "[encoded data removed]",
      "text/plain": [
       "<Figure size 432x288 with 1 Axes>"
      ]
     },
     "metadata": {},
     "output_type": "display_data"
    }
   ],
   "source": [
    "fig = plt.figure()\n",
    "plt.pie(eda2bpd['total_donation_times'],labels = eda2bpd['donor_is_teacher'],autopct='%1.1f%%', shadow=True, startangle=140)\n",
    "plt.axis('equal')\n",
    "plt.title('Total Donation Times: Teacher in Multi-time Donors')\n",
    "fig.savefig('doanation_times_teacher_in_multi.png')"
   ]
  },
  {
   "cell_type": "markdown",
   "metadata": {},
   "source": [
    "Donation amount if teacher"
   ]
  },
  {
   "cell_type": "code",
   "execution_count": 21,
   "metadata": {},
   "outputs": [],
   "source": [
    "# eda3 = donation_donor.groupby('donor_id',\"donor_is_teacher\",'donation_amount')\\\n",
    "#     .agg({\"donation_amount\":\"sum\",'donor_id':'count'})\\\n",
    "#     .withColumnRenamed(\"count(donor_id)\", \"num_times\")\\\n",
    "#     .withColumnRenamed(\"sum(donation_amount)\", \"total_donation_amount\")\n",
    "# eda3a = eda3.groupby(\"donor_is_teacher\").agg({\"total_donation_amount\":\"sum\",\"donor_id\":\"count\"})"
   ]
  },
  {
   "cell_type": "markdown",
   "metadata": {},
   "source": [
    "donor by state"
   ]
  },
  {
   "cell_type": "code",
   "execution_count": 22,
   "metadata": {},
   "outputs": [],
   "source": [
    "eda4 = donation_donor.groupby('donor_id','donor_state').count().withColumnRenamed(\"count\", \"num_times\")\n",
    "# .agg({'donor_is_teacher' : 'count' }).sort('count(donor_is_teacher)',ascending =False)\n",
    "# eda4.show()"
   ]
  },
  {
   "cell_type": "code",
   "execution_count": 23,
   "metadata": {},
   "outputs": [
    {
     "data": {
      "text/html": [
       "<div>\n",
       "<style scoped>\n",
       "    .dataframe tbody tr th:only-of-type {\n",
       "        vertical-align: middle;\n",
       "    }\n",
       "\n",
       "    .dataframe tbody tr th {\n",
       "        vertical-align: top;\n",
       "    }\n",
       "\n",
       "    .dataframe thead th {\n",
       "        text-align: right;\n",
       "    }\n",
       "</style>\n",
       "<table border=\"1\" class=\"dataframe\">\n",
       "  <thead>\n",
       "    <tr style=\"text-align: right;\">\n",
       "      <th></th>\n",
       "      <th>donor_state</th>\n",
       "      <th>count</th>\n",
       "    </tr>\n",
       "  </thead>\n",
       "  <tbody>\n",
       "    <tr>\n",
       "      <th>0</th>\n",
       "      <td>California</td>\n",
       "      <td>283393</td>\n",
       "    </tr>\n",
       "    <tr>\n",
       "      <th>1</th>\n",
       "      <td>New York</td>\n",
       "      <td>131839</td>\n",
       "    </tr>\n",
       "    <tr>\n",
       "      <th>2</th>\n",
       "      <td>Texas</td>\n",
       "      <td>127237</td>\n",
       "    </tr>\n",
       "    <tr>\n",
       "      <th>3</th>\n",
       "      <td>Florida</td>\n",
       "      <td>103978</td>\n",
       "    </tr>\n",
       "    <tr>\n",
       "      <th>4</th>\n",
       "      <td>other</td>\n",
       "      <td>103334</td>\n",
       "    </tr>\n",
       "  </tbody>\n",
       "</table>\n",
       "</div>"
      ],
      "text/plain": [
       "  donor_state   count\n",
       "0  California  283393\n",
       "1    New York  131839\n",
       "2       Texas  127237\n",
       "3     Florida  103978\n",
       "4       other  103334"
      ]
     },
     "execution_count": 23,
     "metadata": {},
     "output_type": "execute_result"
    }
   ],
   "source": [
    "eda5 = eda4.groupby('donor_state').count().sort('count',ascending =False)\n",
    "eda5pd = eda5.toPandas()\n",
    "eda5pd.head()"
   ]
  },
  {
   "cell_type": "code",
   "execution_count": 24,
   "metadata": {},
   "outputs": [
    {
     "data": {
      "text/plain": [
       "<Figure size 432x288 with 0 Axes>"
      ]
     },
     "metadata": {},
     "output_type": "display_data"
    },
    {
     "data": {
      "image/png": "[encoded data removed]",
      "text/plain": [
       "<Figure size 1440x720 with 1 Axes>"
      ]
     },
     "metadata": {},
     "output_type": "display_data"
    }
   ],
   "source": [
    "plt.figure()\n",
    "eda5pd.plot.bar(x='donor_state', y='count',figsize=(20, 10))\n",
    "plt.savefig('number_donor_by_state.png')"
   ]
  },
  {
   "cell_type": "markdown",
   "metadata": {},
   "source": [
    "School table - school metro type"
   ]
  },
  {
   "cell_type": "code",
   "execution_count": 25,
   "metadata": {},
   "outputs": [],
   "source": [
    "eda6 = school.groupby('school_metro_type').count().sort('count',ascending =False)"
   ]
  },
  {
   "cell_type": "code",
   "execution_count": 26,
   "metadata": {},
   "outputs": [
    {
     "data": {
      "text/plain": [
       "<Figure size 432x288 with 0 Axes>"
      ]
     },
     "metadata": {},
     "output_type": "display_data"
    },
    {
     "data": {
      "image/png": "[encoded data removed]",
      "text/plain": [
       "<Figure size 720x432 with 1 Axes>"
      ]
     },
     "metadata": {},
     "output_type": "display_data"
    }
   ],
   "source": [
    "eda6pd = eda6.toPandas()\n",
    "plt.figure()\n",
    "eda6pd.plot.bar(x='school_metro_type',figsize=(10, 6),rot=0)\n",
    "plt.savefig('school_metro_type.png')"
   ]
  },
  {
   "cell_type": "markdown",
   "metadata": {},
   "source": [
    "Project table - project_cost vs school type"
   ]
  },
  {
   "cell_type": "code",
   "execution_count": 27,
   "metadata": {},
   "outputs": [],
   "source": [
    "eda7 = project.groupBy('project_type').agg({'project_cost':'avg'})\n",
    "# .agg({'project_type':'count','project_cost':'sum'})\n",
    "eda7pd = eda7.toPandas()"
   ]
  },
  {
   "cell_type": "code",
   "execution_count": 28,
   "metadata": {},
   "outputs": [
    {
     "data": {
      "text/plain": [
       "<Figure size 432x288 with 0 Axes>"
      ]
     },
     "metadata": {},
     "output_type": "display_data"
    },
    {
     "data": {
      "image/png": "[encoded data removed]",
      "text/plain": [
       "<Figure size 720x432 with 1 Axes>"
      ]
     },
     "metadata": {},
     "output_type": "display_data"
    }
   ],
   "source": [
    "plt.figure()\n",
    "eda7pd.plot.bar(x='project_type',figsize=(10, 6),rot=0)\n",
    "plt.savefig('average cost on project type.png')"
   ]
  },
  {
   "cell_type": "markdown",
   "metadata": {},
   "source": [
    "resources -  top vendor"
   ]
  },
  {
   "cell_type": "code",
   "execution_count": 29,
   "metadata": {},
   "outputs": [],
   "source": [
    "eda8 = resources.groupby('resource_vendor_name').count().sort('count',ascending =False)"
   ]
  },
  {
   "cell_type": "code",
   "execution_count": 30,
   "metadata": {},
   "outputs": [
    {
     "data": {
      "text/html": [
       "<div>\n",
       "<style scoped>\n",
       "    .dataframe tbody tr th:only-of-type {\n",
       "        vertical-align: middle;\n",
       "    }\n",
       "\n",
       "    .dataframe tbody tr th {\n",
       "        vertical-align: top;\n",
       "    }\n",
       "\n",
       "    .dataframe thead th {\n",
       "        text-align: right;\n",
       "    }\n",
       "</style>\n",
       "<table border=\"1\" class=\"dataframe\">\n",
       "  <thead>\n",
       "    <tr style=\"text-align: right;\">\n",
       "      <th></th>\n",
       "      <th>resource_vendor_name</th>\n",
       "      <th>count</th>\n",
       "    </tr>\n",
       "  </thead>\n",
       "  <tbody>\n",
       "    <tr>\n",
       "      <th>0</th>\n",
       "      <td>Amazon Business</td>\n",
       "      <td>3203169</td>\n",
       "    </tr>\n",
       "    <tr>\n",
       "      <th>1</th>\n",
       "      <td>Lakeshore Learning Materials</td>\n",
       "      <td>1080820</td>\n",
       "    </tr>\n",
       "    <tr>\n",
       "      <th>2</th>\n",
       "      <td>AKJ Education</td>\n",
       "      <td>964490</td>\n",
       "    </tr>\n",
       "    <tr>\n",
       "      <th>3</th>\n",
       "      <td>Best Buy Education</td>\n",
       "      <td>315762</td>\n",
       "    </tr>\n",
       "    <tr>\n",
       "      <th>4</th>\n",
       "      <td>School Specialty</td>\n",
       "      <td>240064</td>\n",
       "    </tr>\n",
       "    <tr>\n",
       "      <th>5</th>\n",
       "      <td>Quill.com</td>\n",
       "      <td>222896</td>\n",
       "    </tr>\n",
       "    <tr>\n",
       "      <th>6</th>\n",
       "      <td>Kaplan Early Learning Company</td>\n",
       "      <td>194288</td>\n",
       "    </tr>\n",
       "    <tr>\n",
       "      <th>7</th>\n",
       "      <td>Blick Art Materials</td>\n",
       "      <td>166818</td>\n",
       "    </tr>\n",
       "    <tr>\n",
       "      <th>8</th>\n",
       "      <td>Staples Advantage</td>\n",
       "      <td>163323</td>\n",
       "    </tr>\n",
       "    <tr>\n",
       "      <th>9</th>\n",
       "      <td>Nasco</td>\n",
       "      <td>126483</td>\n",
       "    </tr>\n",
       "  </tbody>\n",
       "</table>\n",
       "</div>"
      ],
      "text/plain": [
       "            resource_vendor_name    count\n",
       "0                Amazon Business  3203169\n",
       "1   Lakeshore Learning Materials  1080820\n",
       "2                  AKJ Education   964490\n",
       "3             Best Buy Education   315762\n",
       "4               School Specialty   240064\n",
       "5                      Quill.com   222896\n",
       "6  Kaplan Early Learning Company   194288\n",
       "7            Blick Art Materials   166818\n",
       "8              Staples Advantage   163323\n",
       "9                          Nasco   126483"
      ]
     },
     "execution_count": 30,
     "metadata": {},
     "output_type": "execute_result"
    }
   ],
   "source": [
    "eda8pd = eda8.limit(10).toPandas()\n",
    "eda8pd"
   ]
  },
  {
   "cell_type": "code",
   "execution_count": 31,
   "metadata": {},
   "outputs": [
    {
     "data": {
      "text/plain": [
       "<Figure size 432x288 with 0 Axes>"
      ]
     },
     "metadata": {},
     "output_type": "display_data"
    },
    {
     "data": {
      "image/png": "[encoded data removed]",
      "text/plain": [
       "<Figure size 720x432 with 1 Axes>"
      ]
     },
     "metadata": {},
     "output_type": "display_data"
    }
   ],
   "source": [
    "plt.figure()\n",
    "eda8pd.plot.barh(x='resource_vendor_name',figsize=(10, 6))\n",
    "plt.gca().invert_yaxis()\n",
    "plt.savefig('top 10 vendors.png')"
   ]
  },
  {
   "cell_type": "markdown",
   "metadata": {},
   "source": [
    "Project status vs avg cost"
   ]
  },
  {
   "cell_type": "code",
   "execution_count": 32,
   "metadata": {},
   "outputs": [],
   "source": [
    "eda9 = spark.sql(\n",
    "'''select project_status, project_cost from donor.final_projects_joined''')\n",
    "eda9pd = eda9.toPandas()"
   ]
  },
  {
   "cell_type": "code",
   "execution_count": 33,
   "metadata": {},
   "outputs": [
    {
     "data": {
      "text/html": [
       "<div>\n",
       "<style scoped>\n",
       "    .dataframe tbody tr th:only-of-type {\n",
       "        vertical-align: middle;\n",
       "    }\n",
       "\n",
       "    .dataframe tbody tr th {\n",
       "        vertical-align: top;\n",
       "    }\n",
       "\n",
       "    .dataframe thead th {\n",
       "        text-align: right;\n",
       "    }\n",
       "</style>\n",
       "<table border=\"1\" class=\"dataframe\">\n",
       "  <thead>\n",
       "    <tr style=\"text-align: right;\">\n",
       "      <th></th>\n",
       "      <th>project_status</th>\n",
       "      <th>project_cost</th>\n",
       "    </tr>\n",
       "  </thead>\n",
       "  <tbody>\n",
       "    <tr>\n",
       "      <th>0</th>\n",
       "      <td>Fully Funded</td>\n",
       "      <td>698.150024</td>\n",
       "    </tr>\n",
       "    <tr>\n",
       "      <th>1</th>\n",
       "      <td>Fully Funded</td>\n",
       "      <td>294.950012</td>\n",
       "    </tr>\n",
       "    <tr>\n",
       "      <th>2</th>\n",
       "      <td>Fully Funded</td>\n",
       "      <td>411.420013</td>\n",
       "    </tr>\n",
       "    <tr>\n",
       "      <th>3</th>\n",
       "      <td>Fully Funded</td>\n",
       "      <td>424.450012</td>\n",
       "    </tr>\n",
       "    <tr>\n",
       "      <th>4</th>\n",
       "      <td>Fully Funded</td>\n",
       "      <td>744.530029</td>\n",
       "    </tr>\n",
       "  </tbody>\n",
       "</table>\n",
       "</div>"
      ],
      "text/plain": [
       "  project_status  project_cost\n",
       "0   Fully Funded    698.150024\n",
       "1   Fully Funded    294.950012\n",
       "2   Fully Funded    411.420013\n",
       "3   Fully Funded    424.450012\n",
       "4   Fully Funded    744.530029"
      ]
     },
     "execution_count": 33,
     "metadata": {},
     "output_type": "execute_result"
    }
   ],
   "source": [
    "eda9pd['project_cost'] = eda9pd['project_cost']\n",
    "# .astype(float)\n",
    "eda9pd.head(5)"
   ]
  },
  {
   "cell_type": "code",
   "execution_count": 34,
   "metadata": {},
   "outputs": [
    {
     "data": {
      "image/png": "[encoded data removed]",
      "text/plain": [
       "<Figure size 864x576 with 1 Axes>"
      ]
     },
     "metadata": {},
     "output_type": "display_data"
    }
   ],
   "source": [
    "plt.figure(figsize=(12,8))\n",
    "sns.boxplot(x=\"project_status\", y=\"project_cost\", data= eda9pd, showfliers=False)\n",
    "plt.savefig('project_status_cost.png')"
   ]
  },
  {
   "cell_type": "markdown",
   "metadata": {},
   "source": [
    "Project status vs month"
   ]
  },
  {
   "cell_type": "code",
   "execution_count": 35,
   "metadata": {},
   "outputs": [],
   "source": [
    "eda10 = spark.sql(\n",
    "'''select project_status, month_of_post_date, count(*) as count from donor.final_projects_joined\n",
    "group by month_of_post_date, project_status order by month_of_post_date\n",
    "''')"
   ]
  },
  {
   "cell_type": "code",
   "execution_count": 36,
   "metadata": {},
   "outputs": [
    {
     "data": {
      "text/html": [
       "<div>\n",
       "<style scoped>\n",
       "    .dataframe tbody tr th:only-of-type {\n",
       "        vertical-align: middle;\n",
       "    }\n",
       "\n",
       "    .dataframe tbody tr th {\n",
       "        vertical-align: top;\n",
       "    }\n",
       "\n",
       "    .dataframe thead th {\n",
       "        text-align: right;\n",
       "    }\n",
       "</style>\n",
       "<table border=\"1\" class=\"dataframe\">\n",
       "  <thead>\n",
       "    <tr style=\"text-align: right;\">\n",
       "      <th></th>\n",
       "      <th>project_status</th>\n",
       "      <th>month_of_post_date</th>\n",
       "      <th>count</th>\n",
       "    </tr>\n",
       "  </thead>\n",
       "  <tbody>\n",
       "    <tr>\n",
       "      <th>0</th>\n",
       "      <td>Expired</td>\n",
       "      <td>1</td>\n",
       "      <td>15151.0</td>\n",
       "    </tr>\n",
       "    <tr>\n",
       "      <th>1</th>\n",
       "      <td>Fully Funded</td>\n",
       "      <td>1</td>\n",
       "      <td>77798.0</td>\n",
       "    </tr>\n",
       "    <tr>\n",
       "      <th>2</th>\n",
       "      <td>Fully Funded</td>\n",
       "      <td>2</td>\n",
       "      <td>68547.0</td>\n",
       "    </tr>\n",
       "    <tr>\n",
       "      <th>3</th>\n",
       "      <td>Expired</td>\n",
       "      <td>2</td>\n",
       "      <td>13415.0</td>\n",
       "    </tr>\n",
       "    <tr>\n",
       "      <th>4</th>\n",
       "      <td>Fully Funded</td>\n",
       "      <td>3</td>\n",
       "      <td>80644.0</td>\n",
       "    </tr>\n",
       "  </tbody>\n",
       "</table>\n",
       "</div>"
      ],
      "text/plain": [
       "  project_status  month_of_post_date    count\n",
       "0        Expired                   1  15151.0\n",
       "1   Fully Funded                   1  77798.0\n",
       "2   Fully Funded                   2  68547.0\n",
       "3        Expired                   2  13415.0\n",
       "4   Fully Funded                   3  80644.0"
      ]
     },
     "execution_count": 36,
     "metadata": {},
     "output_type": "execute_result"
    }
   ],
   "source": [
    "eda10pd = eda10.toPandas()\n",
    "eda10pd['count'] = eda10pd['count'].astype(float)\n",
    "eda10pd.head()"
   ]
  },
  {
   "cell_type": "code",
   "execution_count": 37,
   "metadata": {},
   "outputs": [
    {
     "data": {
      "text/html": [
       "<div>\n",
       "<style scoped>\n",
       "    .dataframe tbody tr th:only-of-type {\n",
       "        vertical-align: middle;\n",
       "    }\n",
       "\n",
       "    .dataframe tbody tr th {\n",
       "        vertical-align: top;\n",
       "    }\n",
       "\n",
       "    .dataframe thead th {\n",
       "        text-align: right;\n",
       "    }\n",
       "</style>\n",
       "<table border=\"1\" class=\"dataframe\">\n",
       "  <thead>\n",
       "    <tr style=\"text-align: right;\">\n",
       "      <th>project_status</th>\n",
       "      <th>Expired</th>\n",
       "      <th>Fully Funded</th>\n",
       "    </tr>\n",
       "    <tr>\n",
       "      <th>month_of_post_date</th>\n",
       "      <th></th>\n",
       "      <th></th>\n",
       "    </tr>\n",
       "  </thead>\n",
       "  <tbody>\n",
       "    <tr>\n",
       "      <th>1</th>\n",
       "      <td>15151.0</td>\n",
       "      <td>77798.0</td>\n",
       "    </tr>\n",
       "    <tr>\n",
       "      <th>2</th>\n",
       "      <td>13415.0</td>\n",
       "      <td>68547.0</td>\n",
       "    </tr>\n",
       "    <tr>\n",
       "      <th>3</th>\n",
       "      <td>20936.0</td>\n",
       "      <td>80644.0</td>\n",
       "    </tr>\n",
       "    <tr>\n",
       "      <th>4</th>\n",
       "      <td>13797.0</td>\n",
       "      <td>47904.0</td>\n",
       "    </tr>\n",
       "    <tr>\n",
       "      <th>5</th>\n",
       "      <td>15321.0</td>\n",
       "      <td>36544.0</td>\n",
       "    </tr>\n",
       "    <tr>\n",
       "      <th>6</th>\n",
       "      <td>14818.0</td>\n",
       "      <td>33305.0</td>\n",
       "    </tr>\n",
       "    <tr>\n",
       "      <th>7</th>\n",
       "      <td>18568.0</td>\n",
       "      <td>47575.0</td>\n",
       "    </tr>\n",
       "    <tr>\n",
       "      <th>8</th>\n",
       "      <td>32874.0</td>\n",
       "      <td>102424.0</td>\n",
       "    </tr>\n",
       "    <tr>\n",
       "      <th>9</th>\n",
       "      <td>35543.0</td>\n",
       "      <td>117513.0</td>\n",
       "    </tr>\n",
       "    <tr>\n",
       "      <th>10</th>\n",
       "      <td>26090.0</td>\n",
       "      <td>80098.0</td>\n",
       "    </tr>\n",
       "    <tr>\n",
       "      <th>11</th>\n",
       "      <td>22000.0</td>\n",
       "      <td>70334.0</td>\n",
       "    </tr>\n",
       "    <tr>\n",
       "      <th>12</th>\n",
       "      <td>10745.0</td>\n",
       "      <td>56008.0</td>\n",
       "    </tr>\n",
       "  </tbody>\n",
       "</table>\n",
       "</div>"
      ],
      "text/plain": [
       "project_status      Expired  Fully Funded\n",
       "month_of_post_date                       \n",
       "1                   15151.0       77798.0\n",
       "2                   13415.0       68547.0\n",
       "3                   20936.0       80644.0\n",
       "4                   13797.0       47904.0\n",
       "5                   15321.0       36544.0\n",
       "6                   14818.0       33305.0\n",
       "7                   18568.0       47575.0\n",
       "8                   32874.0      102424.0\n",
       "9                   35543.0      117513.0\n",
       "10                  26090.0       80098.0\n",
       "11                  22000.0       70334.0\n",
       "12                  10745.0       56008.0"
      ]
     },
     "execution_count": 37,
     "metadata": {},
     "output_type": "execute_result"
    }
   ],
   "source": [
    "# eda10pd.groupby(['month_of_post_date','project_status'])['count'].transform(lambda x: x/x.sum())\n",
    "df = eda10pd.pivot_table(index = \"month_of_post_date\",columns='project_status',values='count')\n",
    "df"
   ]
  },
  {
   "cell_type": "code",
   "execution_count": 38,
   "metadata": {},
   "outputs": [
    {
     "data": {
      "text/plain": [
       "<Figure size 864x576 with 0 Axes>"
      ]
     },
     "metadata": {},
     "output_type": "display_data"
    },
    {
     "data": {
      "image/png": "[encoded data removed]",
      "text/plain": [
       "<Figure size 864x576 with 1 Axes>"
      ]
     },
     "metadata": {},
     "output_type": "display_data"
    }
   ],
   "source": [
    "# sns.barplot(x=\"month_of_post_date\", y=\"count\", hue='project_status', data= eda10pd)\n",
    "# eda10pd.pivot(\"month_of_post_date\",'project_status','count').plot(kind = 'bar', stacked = True)\n",
    "\n",
    "plt.figure(figsize=(12,8))\n",
    "df.plot(kind='barh',stacked = True, mark_right = True,figsize=(12,8))\n",
    "df_total = df.sum(axis=1)\n",
    "df_rel = df[df.columns[1:]].div(df_total, 0)*100\n",
    "\n",
    "for n in df_rel:\n",
    "    for i, (cs, ab, pc, tot) in enumerate(zip(df.iloc[:, 1:].cumsum(1)[n], df[n], df_rel[n], df_total)):\n",
    "#         plt.text(tot, i, str(tot), va='center')\n",
    "        plt.text(cs - ab/2, i, str(np.round(pc, 1)) + '%', va='center', ha='left')\n",
    "plt.savefig('project_status_month.png')"
   ]
  },
  {
   "cell_type": "code",
   "execution_count": null,
   "metadata": {},
   "outputs": [],
   "source": []
  },
  {
   "cell_type": "code",
   "execution_count": 39,
   "metadata": {},
   "outputs": [],
   "source": [
    "eda11 = joined.groupby('project_status').count().toPandas()"
   ]
  },
  {
   "cell_type": "code",
   "execution_count": 40,
   "metadata": {},
   "outputs": [
    {
     "data": {
      "text/html": [
       "<div>\n",
       "<style scoped>\n",
       "    .dataframe tbody tr th:only-of-type {\n",
       "        vertical-align: middle;\n",
       "    }\n",
       "\n",
       "    .dataframe tbody tr th {\n",
       "        vertical-align: top;\n",
       "    }\n",
       "\n",
       "    .dataframe thead th {\n",
       "        text-align: right;\n",
       "    }\n",
       "</style>\n",
       "<table border=\"1\" class=\"dataframe\">\n",
       "  <thead>\n",
       "    <tr style=\"text-align: right;\">\n",
       "      <th></th>\n",
       "      <th>project_status</th>\n",
       "      <th>count</th>\n",
       "    </tr>\n",
       "  </thead>\n",
       "  <tbody>\n",
       "    <tr>\n",
       "      <th>0</th>\n",
       "      <td>Fully Funded</td>\n",
       "      <td>818694</td>\n",
       "    </tr>\n",
       "    <tr>\n",
       "      <th>1</th>\n",
       "      <td>Expired</td>\n",
       "      <td>239258</td>\n",
       "    </tr>\n",
       "  </tbody>\n",
       "</table>\n",
       "</div>"
      ],
      "text/plain": [
       "  project_status   count\n",
       "0   Fully Funded  818694\n",
       "1        Expired  239258"
      ]
     },
     "execution_count": 40,
     "metadata": {},
     "output_type": "execute_result"
    }
   ],
   "source": [
    "eda11"
   ]
  },
  {
   "cell_type": "code",
   "execution_count": 41,
   "metadata": {},
   "outputs": [
    {
     "data": {
      "image/png": "[encoded data removed]",
      "text/plain": [
       "<Figure size 432x288 with 1 Axes>"
      ]
     },
     "metadata": {},
     "output_type": "display_data"
    }
   ],
   "source": [
    "fig = plt.figure()\n",
    "plt.pie(eda11['count'],labels = ['Fully Funded','Not Funded'],autopct='%1.1f%%', shadow=True, startangle=140)\n",
    "plt.axis('equal')\n",
    "plt.savefig('project_status.png')"
   ]
  },
  {
   "cell_type": "code",
   "execution_count": 42,
   "metadata": {},
   "outputs": [
    {
     "data": {
      "text/plain": [
       "[('project_id', 'string'),\n",
       " ('school_id', 'string'),\n",
       " ('teacher_id', 'string'),\n",
       " ('project_seq', 'int'),\n",
       " ('project_type', 'string'),\n",
       " ('project_grad_level', 'string'),\n",
       " ('project_resource', 'string'),\n",
       " ('project_cost', 'float'),\n",
       " ('project_post_date', 'date'),\n",
       " ('project_exp_date', 'date'),\n",
       " ('project_status', 'string'),\n",
       " ('project_full_fund_date', 'date'),\n",
       " ('project_cat1', 'string'),\n",
       " ('project_cat2', 'string'),\n",
       " ('project_subcat1', 'string'),\n",
       " ('project_subcat2', 'string'),\n",
       " ('school_name', 'string'),\n",
       " ('school_metro_type', 'string'),\n",
       " ('school_percentage_free_lunch', 'float'),\n",
       " ('school_state', 'string'),\n",
       " ('school_zip', 'string'),\n",
       " ('school_city', 'string'),\n",
       " ('school_county', 'string'),\n",
       " ('school_district', 'string'),\n",
       " ('donation_amount_sum', 'double'),\n",
       " ('number_of_donations', 'bigint'),\n",
       " ('number_of_resources_needed', 'bigint'),\n",
       " ('resources_amount_sum', 'double'),\n",
       " ('resources_total_quantity', 'double'),\n",
       " ('teacher_prefix', 'string'),\n",
       " ('teacher_first_project_posted_date', 'date'),\n",
       " ('days_diff_exp', 'int'),\n",
       " ('month_of_post_date', 'int'),\n",
       " ('year_of_post_date', 'int'),\n",
       " ('teacher_date_diff_exp', 'int')]"
      ]
     },
     "execution_count": 42,
     "metadata": {},
     "output_type": "execute_result"
    }
   ],
   "source": [
    "joined.dtypes"
   ]
  },
  {
   "cell_type": "code",
   "execution_count": 43,
   "metadata": {},
   "outputs": [],
   "source": [
    "eda12 = spark.sql(\n",
    "'''select project_status, school_metro_type, count(*) as count from donor.final_projects_joined\n",
    "group by school_metro_type, project_status\n",
    "''')"
   ]
  },
  {
   "cell_type": "code",
   "execution_count": 44,
   "metadata": {
    "scrolled": true
   },
   "outputs": [
    {
     "data": {
      "text/html": [
       "<div>\n",
       "<style scoped>\n",
       "    .dataframe tbody tr th:only-of-type {\n",
       "        vertical-align: middle;\n",
       "    }\n",
       "\n",
       "    .dataframe tbody tr th {\n",
       "        vertical-align: top;\n",
       "    }\n",
       "\n",
       "    .dataframe thead th {\n",
       "        text-align: right;\n",
       "    }\n",
       "</style>\n",
       "<table border=\"1\" class=\"dataframe\">\n",
       "  <thead>\n",
       "    <tr style=\"text-align: right;\">\n",
       "      <th></th>\n",
       "      <th>project_status</th>\n",
       "      <th>school_metro_type</th>\n",
       "      <th>count</th>\n",
       "    </tr>\n",
       "  </thead>\n",
       "  <tbody>\n",
       "    <tr>\n",
       "      <th>0</th>\n",
       "      <td>Expired</td>\n",
       "      <td>town</td>\n",
       "      <td>13006.0</td>\n",
       "    </tr>\n",
       "    <tr>\n",
       "      <th>1</th>\n",
       "      <td>Fully Funded</td>\n",
       "      <td>suburban</td>\n",
       "      <td>244332.0</td>\n",
       "    </tr>\n",
       "    <tr>\n",
       "      <th>2</th>\n",
       "      <td>Fully Funded</td>\n",
       "      <td>urban</td>\n",
       "      <td>393906.0</td>\n",
       "    </tr>\n",
       "    <tr>\n",
       "      <th>3</th>\n",
       "      <td>Expired</td>\n",
       "      <td>rural</td>\n",
       "      <td>27666.0</td>\n",
       "    </tr>\n",
       "    <tr>\n",
       "      <th>4</th>\n",
       "      <td>Fully Funded</td>\n",
       "      <td>rural</td>\n",
       "      <td>79180.0</td>\n",
       "    </tr>\n",
       "  </tbody>\n",
       "</table>\n",
       "</div>"
      ],
      "text/plain": [
       "  project_status school_metro_type     count\n",
       "0        Expired              town   13006.0\n",
       "1   Fully Funded          suburban  244332.0\n",
       "2   Fully Funded             urban  393906.0\n",
       "3        Expired             rural   27666.0\n",
       "4   Fully Funded             rural   79180.0"
      ]
     },
     "execution_count": 44,
     "metadata": {},
     "output_type": "execute_result"
    }
   ],
   "source": [
    "eda12pd = eda12.toPandas()\n",
    "eda12pd['count'] = eda12pd['count'].astype(float)\n",
    "eda12pd.head()"
   ]
  },
  {
   "cell_type": "code",
   "execution_count": 45,
   "metadata": {},
   "outputs": [
    {
     "data": {
      "text/html": [
       "<div>\n",
       "<style scoped>\n",
       "    .dataframe tbody tr th:only-of-type {\n",
       "        vertical-align: middle;\n",
       "    }\n",
       "\n",
       "    .dataframe tbody tr th {\n",
       "        vertical-align: top;\n",
       "    }\n",
       "\n",
       "    .dataframe thead th {\n",
       "        text-align: right;\n",
       "    }\n",
       "</style>\n",
       "<table border=\"1\" class=\"dataframe\">\n",
       "  <thead>\n",
       "    <tr style=\"text-align: right;\">\n",
       "      <th>project_status</th>\n",
       "      <th>Expired</th>\n",
       "      <th>Fully Funded</th>\n",
       "    </tr>\n",
       "    <tr>\n",
       "      <th>school_metro_type</th>\n",
       "      <th></th>\n",
       "      <th></th>\n",
       "    </tr>\n",
       "  </thead>\n",
       "  <tbody>\n",
       "    <tr>\n",
       "      <th>rural</th>\n",
       "      <td>27666.0</td>\n",
       "      <td>79180.0</td>\n",
       "    </tr>\n",
       "    <tr>\n",
       "      <th>suburban</th>\n",
       "      <td>78770.0</td>\n",
       "      <td>244332.0</td>\n",
       "    </tr>\n",
       "    <tr>\n",
       "      <th>town</th>\n",
       "      <td>13006.0</td>\n",
       "      <td>35936.0</td>\n",
       "    </tr>\n",
       "    <tr>\n",
       "      <th>unknown</th>\n",
       "      <td>20371.0</td>\n",
       "      <td>65340.0</td>\n",
       "    </tr>\n",
       "    <tr>\n",
       "      <th>urban</th>\n",
       "      <td>99445.0</td>\n",
       "      <td>393906.0</td>\n",
       "    </tr>\n",
       "  </tbody>\n",
       "</table>\n",
       "</div>"
      ],
      "text/plain": [
       "project_status     Expired  Fully Funded\n",
       "school_metro_type                       \n",
       "rural              27666.0       79180.0\n",
       "suburban           78770.0      244332.0\n",
       "town               13006.0       35936.0\n",
       "unknown            20371.0       65340.0\n",
       "urban              99445.0      393906.0"
      ]
     },
     "execution_count": 45,
     "metadata": {},
     "output_type": "execute_result"
    }
   ],
   "source": [
    "df = eda12pd.pivot_table(index = \"school_metro_type\",columns='project_status',values='count')\n",
    "df"
   ]
  },
  {
   "cell_type": "code",
   "execution_count": 46,
   "metadata": {},
   "outputs": [
    {
     "data": {
      "text/plain": [
       "<Figure size 432x288 with 0 Axes>"
      ]
     },
     "metadata": {},
     "output_type": "display_data"
    },
    {
     "data": {
      "image/png": "[encoded data removed]",
      "text/plain": [
       "<Figure size 864x576 with 1 Axes>"
      ]
     },
     "metadata": {},
     "output_type": "display_data"
    }
   ],
   "source": [
    "plt.figure()\n",
    "df.plot(kind='barh',stacked = True, mark_right = True,figsize=(12,8))\n",
    "df_total = df.sum(axis=1)\n",
    "df_rel = df[df.columns[1:]].div(df_total, 0)*100\n",
    "\n",
    "for n in df_rel:\n",
    "    for i, (cs, ab, pc, tot) in enumerate(zip(df.iloc[:, 1:].cumsum(1)[n], df[n], df_rel[n], df_total)):\n",
    "        plt.text(cs - ab/2, i, str(np.round(pc, 1)) + '%', va='center', ha='left')\n",
    "plt.savefig('project_status_metro.png')"
   ]
  },
  {
   "cell_type": "code",
   "execution_count": null,
   "metadata": {},
   "outputs": [],
   "source": []
  },
  {
   "cell_type": "code",
   "execution_count": 47,
   "metadata": {},
   "outputs": [
    {
     "data": {
      "text/html": [
       "<div>\n",
       "<style scoped>\n",
       "    .dataframe tbody tr th:only-of-type {\n",
       "        vertical-align: middle;\n",
       "    }\n",
       "\n",
       "    .dataframe tbody tr th {\n",
       "        vertical-align: top;\n",
       "    }\n",
       "\n",
       "    .dataframe thead th {\n",
       "        text-align: right;\n",
       "    }\n",
       "</style>\n",
       "<table border=\"1\" class=\"dataframe\">\n",
       "  <thead>\n",
       "    <tr style=\"text-align: right;\">\n",
       "      <th>project_status</th>\n",
       "      <th>Expired</th>\n",
       "      <th>Fully Funded</th>\n",
       "    </tr>\n",
       "    <tr>\n",
       "      <th>project_cat1</th>\n",
       "      <th></th>\n",
       "      <th></th>\n",
       "    </tr>\n",
       "  </thead>\n",
       "  <tbody>\n",
       "    <tr>\n",
       "      <th>Applied Learning</th>\n",
       "      <td>27902.0</td>\n",
       "      <td>94412.0</td>\n",
       "    </tr>\n",
       "    <tr>\n",
       "      <th>Health &amp; Sports</th>\n",
       "      <td>13003.0</td>\n",
       "      <td>52718.0</td>\n",
       "    </tr>\n",
       "    <tr>\n",
       "      <th>History &amp; Civics</th>\n",
       "      <td>11048.0</td>\n",
       "      <td>38798.0</td>\n",
       "    </tr>\n",
       "    <tr>\n",
       "      <th>Literacy &amp; Language</th>\n",
       "      <td>112185.0</td>\n",
       "      <td>354080.0</td>\n",
       "    </tr>\n",
       "    <tr>\n",
       "      <th>Math &amp; Science</th>\n",
       "      <td>53857.0</td>\n",
       "      <td>196106.0</td>\n",
       "    </tr>\n",
       "    <tr>\n",
       "      <th>Music &amp; The Arts</th>\n",
       "      <td>12239.0</td>\n",
       "      <td>44676.0</td>\n",
       "    </tr>\n",
       "    <tr>\n",
       "      <th>Special Needs</th>\n",
       "      <td>8526.0</td>\n",
       "      <td>28646.0</td>\n",
       "    </tr>\n",
       "    <tr>\n",
       "      <th>Warmth</th>\n",
       "      <td>498.0</td>\n",
       "      <td>9258.0</td>\n",
       "    </tr>\n",
       "  </tbody>\n",
       "</table>\n",
       "</div>"
      ],
      "text/plain": [
       "project_status        Expired  Fully Funded\n",
       "project_cat1                               \n",
       "Applied Learning      27902.0       94412.0\n",
       "Health & Sports       13003.0       52718.0\n",
       "History & Civics      11048.0       38798.0\n",
       "Literacy & Language  112185.0      354080.0\n",
       "Math & Science        53857.0      196106.0\n",
       "Music & The Arts      12239.0       44676.0\n",
       "Special Needs          8526.0       28646.0\n",
       "Warmth                  498.0        9258.0"
      ]
     },
     "execution_count": 47,
     "metadata": {},
     "output_type": "execute_result"
    }
   ],
   "source": [
    "eda13 = spark.sql(\n",
    "'''select project_status, project_cat1, count(*) as count from donor.final_projects_joined\n",
    "group by project_cat1, project_status\n",
    "''')\n",
    "edapd = eda13.toPandas()\n",
    "edapd['count'] = edapd['count'].astype(float)\n",
    "# edapd.head()\n",
    "df = edapd.pivot_table(index = \"project_cat1\",columns='project_status',values='count')\n",
    "df"
   ]
  },
  {
   "cell_type": "code",
   "execution_count": 48,
   "metadata": {},
   "outputs": [
    {
     "data": {
      "text/plain": [
       "<Figure size 432x288 with 0 Axes>"
      ]
     },
     "metadata": {},
     "output_type": "display_data"
    },
    {
     "data": {
      "image/png": "[encoded data removed]",
      "text/plain": [
       "<Figure size 864x576 with 1 Axes>"
      ]
     },
     "metadata": {},
     "output_type": "display_data"
    }
   ],
   "source": [
    "plt.figure()\n",
    "df.plot(kind='barh',stacked = True, mark_right = True,figsize=(12,8))\n",
    "df_total = df.sum(axis=1)\n",
    "df_rel = df[df.columns[1:]].div(df_total, 0)*100\n",
    "\n",
    "for n in df_rel:\n",
    "    for i, (cs, ab, pc, tot) in enumerate(zip(df.iloc[:, 1:].cumsum(1)[n], df[n], df_rel[n], df_total)):\n",
    "        plt.text(cs - ab/2, i, str(np.round(pc, 1)) + '%', va='center', ha='left')\n",
    "plt.savefig('project_status_cat1.png')"
   ]
  },
  {
   "cell_type": "code",
   "execution_count": null,
   "metadata": {},
   "outputs": [],
   "source": []
  },
  {
   "cell_type": "code",
   "execution_count": 49,
   "metadata": {},
   "outputs": [
    {
     "data": {
      "text/html": [
       "<div>\n",
       "<style scoped>\n",
       "    .dataframe tbody tr th:only-of-type {\n",
       "        vertical-align: middle;\n",
       "    }\n",
       "\n",
       "    .dataframe tbody tr th {\n",
       "        vertical-align: top;\n",
       "    }\n",
       "\n",
       "    .dataframe thead th {\n",
       "        text-align: right;\n",
       "    }\n",
       "</style>\n",
       "<table border=\"1\" class=\"dataframe\">\n",
       "  <thead>\n",
       "    <tr style=\"text-align: right;\">\n",
       "      <th>project_status</th>\n",
       "      <th>Expired</th>\n",
       "      <th>Fully Funded</th>\n",
       "    </tr>\n",
       "    <tr>\n",
       "      <th>teacher_prefix</th>\n",
       "      <th></th>\n",
       "      <th></th>\n",
       "    </tr>\n",
       "  </thead>\n",
       "  <tbody>\n",
       "    <tr>\n",
       "      <th>Mr.</th>\n",
       "      <td>25691.0</td>\n",
       "      <td>89919.0</td>\n",
       "    </tr>\n",
       "    <tr>\n",
       "      <th>Mrs.</th>\n",
       "      <td>130244.0</td>\n",
       "      <td>413831.0</td>\n",
       "    </tr>\n",
       "    <tr>\n",
       "      <th>Ms.</th>\n",
       "      <td>79426.0</td>\n",
       "      <td>304352.0</td>\n",
       "    </tr>\n",
       "    <tr>\n",
       "      <th>Teacher</th>\n",
       "      <td>3848.0</td>\n",
       "      <td>10312.0</td>\n",
       "    </tr>\n",
       "  </tbody>\n",
       "</table>\n",
       "</div>"
      ],
      "text/plain": [
       "project_status   Expired  Fully Funded\n",
       "teacher_prefix                        \n",
       "Mr.              25691.0       89919.0\n",
       "Mrs.            130244.0      413831.0\n",
       "Ms.              79426.0      304352.0\n",
       "Teacher           3848.0       10312.0"
      ]
     },
     "execution_count": 49,
     "metadata": {},
     "output_type": "execute_result"
    }
   ],
   "source": [
    "eda14 = spark.sql(\n",
    "'''select project_status, teacher_prefix, count(*) as count from donor.final_projects_joined\n",
    "group by teacher_prefix, project_status\n",
    "''')\n",
    "edapd = eda14.toPandas()\n",
    "edapd = edapd.loc[edapd['teacher_prefix'] != 'Mx.']\n",
    "edapd = edapd.loc[edapd['teacher_prefix'] != 'Dr.']\n",
    "edapd['count'] = edapd['count'].astype(float)\n",
    "# edapd.head()\n",
    "df = edapd.pivot_table(index = \"teacher_prefix\",columns='project_status',values='count')\n",
    "df"
   ]
  },
  {
   "cell_type": "code",
   "execution_count": 50,
   "metadata": {},
   "outputs": [
    {
     "data": {
      "text/html": [
       "<div>\n",
       "<style scoped>\n",
       "    .dataframe tbody tr th:only-of-type {\n",
       "        vertical-align: middle;\n",
       "    }\n",
       "\n",
       "    .dataframe tbody tr th {\n",
       "        vertical-align: top;\n",
       "    }\n",
       "\n",
       "    .dataframe thead th {\n",
       "        text-align: right;\n",
       "    }\n",
       "</style>\n",
       "<table border=\"1\" class=\"dataframe\">\n",
       "  <thead>\n",
       "    <tr style=\"text-align: right;\">\n",
       "      <th></th>\n",
       "      <th>project_status</th>\n",
       "      <th>teacher_prefix</th>\n",
       "      <th>count</th>\n",
       "    </tr>\n",
       "  </thead>\n",
       "  <tbody>\n",
       "    <tr>\n",
       "      <th>0</th>\n",
       "      <td>Expired</td>\n",
       "      <td>Teacher</td>\n",
       "      <td>3848.0</td>\n",
       "    </tr>\n",
       "    <tr>\n",
       "      <th>2</th>\n",
       "      <td>Fully Funded</td>\n",
       "      <td>Teacher</td>\n",
       "      <td>10312.0</td>\n",
       "    </tr>\n",
       "    <tr>\n",
       "      <th>3</th>\n",
       "      <td>Fully Funded</td>\n",
       "      <td>Ms.</td>\n",
       "      <td>304352.0</td>\n",
       "    </tr>\n",
       "    <tr>\n",
       "      <th>5</th>\n",
       "      <td>Expired</td>\n",
       "      <td>Mrs.</td>\n",
       "      <td>130244.0</td>\n",
       "    </tr>\n",
       "    <tr>\n",
       "      <th>7</th>\n",
       "      <td>Expired</td>\n",
       "      <td>Ms.</td>\n",
       "      <td>79426.0</td>\n",
       "    </tr>\n",
       "    <tr>\n",
       "      <th>9</th>\n",
       "      <td>Fully Funded</td>\n",
       "      <td>Mrs.</td>\n",
       "      <td>413831.0</td>\n",
       "    </tr>\n",
       "    <tr>\n",
       "      <th>10</th>\n",
       "      <td>Expired</td>\n",
       "      <td>Mr.</td>\n",
       "      <td>25691.0</td>\n",
       "    </tr>\n",
       "    <tr>\n",
       "      <th>11</th>\n",
       "      <td>Fully Funded</td>\n",
       "      <td>Mr.</td>\n",
       "      <td>89919.0</td>\n",
       "    </tr>\n",
       "  </tbody>\n",
       "</table>\n",
       "</div>"
      ],
      "text/plain": [
       "   project_status teacher_prefix     count\n",
       "0         Expired        Teacher    3848.0\n",
       "2    Fully Funded        Teacher   10312.0\n",
       "3    Fully Funded            Ms.  304352.0\n",
       "5         Expired           Mrs.  130244.0\n",
       "7         Expired            Ms.   79426.0\n",
       "9    Fully Funded           Mrs.  413831.0\n",
       "10        Expired            Mr.   25691.0\n",
       "11   Fully Funded            Mr.   89919.0"
      ]
     },
     "execution_count": 50,
     "metadata": {},
     "output_type": "execute_result"
    }
   ],
   "source": [
    "edapd"
   ]
  },
  {
   "cell_type": "code",
   "execution_count": 51,
   "metadata": {},
   "outputs": [
    {
     "data": {
      "text/plain": [
       "<Figure size 432x288 with 0 Axes>"
      ]
     },
     "metadata": {},
     "output_type": "display_data"
    },
    {
     "data": {
      "image/png": "[encoded data removed]",
      "text/plain": [
       "<Figure size 864x576 with 1 Axes>"
      ]
     },
     "metadata": {},
     "output_type": "display_data"
    }
   ],
   "source": [
    "plt.figure()\n",
    "df.plot(kind='barh',stacked = True, mark_right = True,figsize=(12,8))\n",
    "df_total = df.sum(axis=1)\n",
    "df_rel = df[df.columns[1:]].div(df_total, 0)*100\n",
    "\n",
    "for n in df_rel:\n",
    "    for i, (cs, ab, pc, tot) in enumerate(zip(df.iloc[:, 1:].cumsum(1)[n], df[n], df_rel[n], df_total)):\n",
    "        plt.text(cs - ab/2, i, str(np.round(pc, 1)) + '%', va='center', ha='left')\n",
    "plt.savefig('project_status_prefix.png')"
   ]
  }
 ],
 "metadata": {
  "kernelspec": {
   "display_name": "Python 3",
   "language": "python",
   "name": "python3"
  },
  "language_info": {
   "codemirror_mode": {
    "name": "ipython",
    "version": 3
   },
   "file_extension": ".py",
   "mimetype": "text/x-python",
   "name": "python",
   "nbconvert_exporter": "python",
   "pygments_lexer": "ipython3",
   "version": "3.6.8"
  }
 },
 "nbformat": 4,
 "nbformat_minor": 2
}
